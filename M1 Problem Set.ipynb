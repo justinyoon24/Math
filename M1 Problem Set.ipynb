{
 "cells": [
  {
   "cell_type": "markdown",
   "metadata": {},
   "source": [
    "<div class=\"alert alert-block alert-info\"><b>Note:</b> With the use of this IPython 'magic' command <i>%matplotlib inline</i> , the output of plotting commands is \n",
    "displayed inline within frontends like the Jupyter notebook, directly below the code cell that produced it. The resulting plots will then also be stored in the notebook document.</div>"
   ]
  },
  {
   "cell_type": "markdown",
   "metadata": {},
   "source": [
    "Module 1"
   ]
  },
  {
   "cell_type": "markdown",
   "metadata": {},
   "source": [
    "<div class=\"alert alert-block alert-success\"><b>Problem 1:</b> Given \n",
    "f\n",
    "(\n",
    "x\n",
    ")\n",
    "=\n",
    "−\n",
    "2\n",
    "−\n",
    "1\n",
    "x\n",
    ", find the following:\n",
    "\n",
    "f\n",
    "(\n",
    "−\n",
    "14\n",
    ")\n",
    "=\n",
    " \n",
    "12\n",
    "Correct\n",
    "\n",
    "f\n",
    "(\n",
    "−\n",
    "13\n",
    ")\n",
    "=\n",
    " \n",
    "11\n",
    "Correct\n",
    "\n",
    "f\n",
    "(\n",
    "−\n",
    "2\n",
    ")\n",
    "=\n",
    " \n",
    "0\n",
    "Correct\n",
    "\n",
    "f\n",
    "(\n",
    "−\n",
    "11\n",
    ")\n",
    "=\n",
    " \n",
    "9\n",
    "Correct\n",
    "</div>"
   ]
  },
  {
   "cell_type": "markdown",
   "metadata": {},
   "source": [
    "<div class=\"alert alert-block alert-success\"><b>Problem 2:</b> Graph the following equation:<br>\n",
    "y = 2x - 2 </div>"
   ]
  },
  {
   "cell_type": "code",
   "execution_count": 9,
   "metadata": {},
   "outputs": [
    {
     "data": {
      "image/png": "[encoded data removed]",
      "text/plain": [
       "<Figure size 432x288 with 1 Axes>"
      ]
     },
     "metadata": {},
     "output_type": "display_data"
    }
   ],
   "source": [
    "import matplotlib.pyplot as plt\n",
    "import numpy as np\n",
    "%matplotlib inline\n",
    "\n",
    "plt.style.use('seaborn-whitegrid')\n",
    "\n",
    "# The Data\n",
    "x = np.linspace(0,50,10)\n",
    "\n",
    "y = 2*x-2\n",
    "\n",
    "# Create the figure and axes objects\n",
    "fig = plt.figure()\n",
    "ax = plt.axes()\n",
    "\n",
    "fig.suptitle('y=2x-2')\n",
    "\n",
    "# Plot the data\n",
    "ax.plot(x,y,color='red')\n",
    "\n",
    "plt.show()"
   ]
  },
  {
   "cell_type": "markdown",
   "metadata": {},
   "source": [
    "<div class=\"alert alert-block alert-success\"><b>Problem 3:</b> For each function below, identify the slope, y-intercept and x-intercept\n",
    "\n",
    "Type your numerical answers as whole numbers or simplified fractions. Type your intercepts as ordered pairs. Type DNE for any undefined slope or intercepts that do not exist.\n",
    "Function\tSlope\ty-intercept\tx-intercept\n",
    "</div>\n"
   ]
  },
  {
   "cell_type": "markdown",
   "metadata": {},
   "source": [
    "<div class=\"alert alert-block alert-success\"><b>Problem 4:</b>Write the equation in slope-intercept form of the line with a slope of \n",
    "2\n",
    " passing through \n",
    "(\n",
    "−\n",
    "4\n",
    ",\n",
    "27\n",
    ")\n",
    ".\n",
    "\n",
    "y\n",
    "= 2x+35\n",
    "Correct\n",
    "</div>"
   ]
  },
  {
   "cell_type": "markdown",
   "metadata": {},
   "source": [
    "<div class=\"alert alert-block alert-success\"><b>Problem 5:</b>If \n",
    "f\n",
    "(\n",
    "x\n",
    ")\n",
    " is a linear function and given \n",
    "f\n",
    "(\n",
    "3\n",
    ")\n",
    "=\n",
    "9\n",
    " and \n",
    "f\n",
    "(\n",
    "11\n",
    ")\n",
    "=\n",
    "2\n",
    ", determine the linear function.\n",
    "\n",
    "a.) What is the slope? \n",
    "Correct\n",
    "   (Type your answer as an integer or simplified fraction.)\n",
    "-7/8\n",
    "b.) What is the \n",
    "y\n",
    "-intercept? \n",
    "Correct\n",
    "   (Type your answer as an integer or simplified fraction.)\n",
    "93/8\n",
    "c.) What is \n",
    "f\n",
    "(\n",
    "x\n",
    ")\n",
    "? (Type an exact answer.)\n",
    "\n",
    "f\n",
    "(\n",
    "x\n",
    ")\n",
    "= -7/8x+93/8\n",
    "Correct\n",
    "</div>"
   ]
  },
  {
   "cell_type": "markdown",
   "metadata": {},
   "source": [
    "<div class=\"alert alert-block alert-success\"><b>Problem 6:</b> The cost \n",
    "C\n",
    "(\n",
    "x\n",
    ")\n",
    ", where \n",
    "x\n",
    " is the number of miles driven, of renting a car for a day is $23 plus $0.35 per mile.\n",
    "\n",
    "What is the slope of the linear function and its units? \n",
    ".35\n",
    "Correct \n",
    "dollars per mile\n",
    "Correct - select the correct units\n",
    ".35\n",
    "What is the \n",
    "y\n",
    "-intercept and its units? \n",
    "23\n",
    "Correct \n",
    "dollars\n",
    "Correct - select the correct units\n",
    "23\n",
    "What is the cost function? \n",
    "C\n",
    "(\n",
    "x\n",
    ")\n",
    "=\n",
    ".35x+23 \n",
    "Correct\n",
    "</div>  "
   ]
  },
  {
   "cell_type": "markdown",
   "metadata": {},
   "source": [
    "<div class=\"alert alert-block alert-success\"><b>Problem 7:</b> A company produces very unusual CDs for which the variable cost is $\n",
    "13\n",
    " per CD and the fixed costs are $\n",
    "45000\n",
    ". They will sell the CDs for $\n",
    "45\n",
    " each. Let \n",
    "x\n",
    " be the number of CDs produced.\n",
    "\n",
    "Write the total cost as a function of the number of CDs produced.\n",
    "C\n",
    "(\n",
    "x\n",
    ")\n",
    "=\n",
    " \n",
    "Correct\n",
    "13x+4500  \n",
    "\n",
    "Write the total revenue as a function of the number of CDs produced.\n",
    "R\n",
    "(\n",
    "x\n",
    ")\n",
    "=\n",
    " \n",
    "Correct\n",
    "45x  \n",
    "\n",
    "Write the total profit as a function of the number of CDs produced.\n",
    "P\n",
    "(\n",
    "x\n",
    ")\n",
    "=\n",
    " \n",
    "Correct\n",
    "32x-45000  \n",
    "\n",
    "Find the number of CDs which must be produced to break even. (Enter your answer as an integer.)\n",
    "The number of CDs which must be produced to break even is\n",
    "1406.25\n",
    "</div>"
   ]
  },
  {
   "cell_type": "markdown",
   "metadata": {},
   "source": [
    "<div class=\"alert alert-block alert-success\"><b>Problem 8:</b> A local fruit company recently released a new flavor of applesauce. By the end of the first year, profits on this product amounted to $27,000.00. The anticipated profits for the end of the sixth year is $102,000.00. Assume that the rate of profit will remain constant over time, with \n",
    "P\n",
    " representing the profit and \n",
    "x\n",
    " representing the number of years elapsed.\n",
    "\n",
    "a) Write a linear function \n",
    "P\n",
    "(\n",
    "x\n",
    ")\n",
    " that expresses profit as a function of time. \n",
    "P\n",
    "(\n",
    "x\n",
    ")\n",
    "=\n",
    "\n",
    "15000x+12000\n",
    "Correct\n",
    "  \n",
    "\n",
    "b) Use the function in (a) to predict the company's profit at the end of the ninth year. $\n",
    "Correct  \n",
    "147000\n",
    "\n",
    "c) Use the function in (a) to predict when company's profit should reach $177,000.00. \n",
    "Correct years  \n",
    "11\n",
    "</div>"
   ]
  },
  {
   "cell_type": "markdown",
   "metadata": {},
   "source": [
    "<div class=\"alert alert-block alert-success\"><b>Problem 9: </b>When gases are heated the gas will expand. The expression for a certain gas $ V(T)=0.149T+38 $ calculates the volume V in cubic centimeter of a sample of gas at temperature T in degrees Celsius. <br/><b>(a)</b> Evaluate V(0) = cubic centimeters \n",
    "    <br/><b>(b)</b> If the temperature increases by 50  degrees, by how much does the volume increase? cubic centimeters <br/><b>(c)</b> What is the volume of gas when the temperature is 30 degrees? cubic centimeters​.\n",
    "</div>"
   ]
  },
  {
   "cell_type": "code",
   "execution_count": 10,
   "metadata": {},
   "outputs": [],
   "source": [
    "# Defining a function for the volume (V) of the gas at any temperature (T)\n",
    "def V(T):\n",
    "    volume = 0.149*T+ 38\n",
    "    return volume"
   ]
  },
  {
   "cell_type": "code",
   "execution_count": 11,
   "metadata": {},
   "outputs": [
    {
     "data": {
      "text/plain": [
       "'V(0) = 38.0 cubic centimeters'"
      ]
     },
     "execution_count": 11,
     "metadata": {},
     "output_type": "execute_result"
    }
   ],
   "source": [
    "# (a) \n",
    "f\"V(0) = {V(0)} cubic centimeters\""
   ]
  },
  {
   "cell_type": "code",
   "execution_count": 12,
   "metadata": {},
   "outputs": [
    {
     "data": {
      "text/plain": [
       "'Volume increase after temperature increase: 7.45 cubic centimeters.'"
      ]
     },
     "execution_count": 12,
     "metadata": {},
     "output_type": "execute_result"
    }
   ],
   "source": [
    "# (b)\n",
    "volume_increase = V(50)-V(0)\n",
    "f\"Volume increase after temperature increase: {round(volume_increase,2)} cubic centimeters.\""
   ]
  },
  {
   "cell_type": "code",
   "execution_count": 14,
   "metadata": {},
   "outputs": [
    {
     "data": {
      "text/plain": [
       "'Volume of gas when T is 30 is42.47 cubic centimeters.'"
      ]
     },
     "execution_count": 14,
     "metadata": {},
     "output_type": "execute_result"
    }
   ],
   "source": [
    "# (c)\n",
    "f\"Volume of gas when T is 30 is{round(V(30),2)} cubic centimeters.\""
   ]
  },
  {
   "cell_type": "markdown",
   "metadata": {},
   "source": [
    "<div class=\"alert alert-block alert-success\"><b>Problem 10:</b> The following table shows total dollar sales (in thousands) for a local retailer for various years.\n",
    "\n",
    "Year\t2015\t2016\t2017\t2018\t2019\n",
    "\n",
    "Sales ($)\t41\t68\t95\t122\t149\n",
    "\n",
    "a) What was the total in sales for 2017? $\n",
    "Correct\n",
    "\n",
    "95000\n",
    "    \n",
    "b) By how much did sales increase by each year? $\n",
    "Correct\n",
    "\n",
    "27000\n",
    "\n",
    "c) Find a linear function that models the above data. Let \n",
    "x\n",
    "=\n",
    "1\n",
    " correspond to 2015 and \n",
    "S\n",
    "(\n",
    "x\n",
    ")\n",
    " is in thousands.\n",
    "S\n",
    "(\n",
    "x\n",
    ")\n",
    "=\n",
    "\n",
    "27x+14\n",
    "Correct x + \n",
    "Correct\n",
    "\n",
    "d) Use \n",
    "S\n",
    "(\n",
    "x\n",
    ")\n",
    " to predict sales in 2020. $\n",
    "Correct\n",
    "176000\n",
    "\n",
    "If needed, round answer to 5 decimal places.\n",
    "Enter DNE for Does Not Exist, oo for Infinity\n",
    "</div>"
   ]
  },
  {
   "cell_type": "markdown",
   "metadata": {},
   "source": [
    "<div class=\"alert alert-block alert-success\"><b>Problem 11:</b> Match each scatterplot shown below with one of the four specified correlation coefficients.\n",
    "</div>"
   ]
  },
  {
   "cell_type": "markdown",
   "metadata": {},
   "source": [
    "<div class=\"alert alert-block alert-success\"><b> 12.</b> 12.\tBased on the data shown below, calculate the correlation coefficient (to three decimal places).\n",
    "\n",
    "x\ty\n",
    "\n",
    "5\t13.4\n",
    "\n",
    "6\t11.94\n",
    "\n",
    "7\t13.18\n",
    "\n",
    "8\t15.52\n",
    "    \n",
    "9\t17.76\n",
    "    \n",
    "10\t20.9\n",
    "    \n",
    "11\t22.34\n",
    "    \n",
    "12\t20.38\n",
    "    \n",
    "13\t24.52\n",
    "    \n",
    "14\t23.36\n",
    "    \n",
    "15\t25.4\n",
    "    \n",
    "16\t27.24\n",
    "    \n",
    "17\t27.78\n",
    "    \n",
    "18\t30.22\n",
    "    \n",
    "19\t32.66\n",
    "    \n",
    "20\t33.5\n",
    "</div>"
   ]
  },
  {
   "attachments": {
    "correlation%20table.PNG": {
     "image/png": "[encoded data removed]"
    }
   },
   "cell_type": "markdown",
   "metadata": {},
   "source": [
    "![correlation%20table.PNG](attachment:correlation%20table.PNG)"
   ]
  },
  {
   "cell_type": "markdown",
   "metadata": {},
   "source": [
    "<div class=\"alert alert-block alert-info\"><i>There are two solutions offered below:<br/>\n",
    "    (1) <b>Using corrcoef from numpy</b> - the function returns a 2-d covariance matrix. To get the correlation coefficient itself \n",
    "use the index [0,1] or [1,0] <br/>\n",
    "    (2) <b>Using pearsonr from scipy</b> - the function returns the correlation coefficient along with the 2-tailed p-value. P-values\n",
    "will be discussed a lot more in PREDICT 401 but if the values are less than 0.025 in this case, the correlation coefficient value is considered significant.<br/></i></div>"
   ]
  },
  {
   "cell_type": "code",
   "execution_count": 15,
   "metadata": {},
   "outputs": [
    {
     "data": {
      "text/plain": [
       "'Correlation Coefficient using numpy:0.984'"
      ]
     },
     "execution_count": 15,
     "metadata": {},
     "output_type": "execute_result"
    }
   ],
   "source": [
    "from scipy.stats.stats import pearsonr\n",
    "import scipy.stats as st\n",
    "import numpy as np\n",
    "import matplotlib.pyplot as plt\n",
    "\n",
    "x = np.array([5,6,7,8,9,10,11,12,13,14,15,16,17,18,19,20])\n",
    "y = np.array([13.4,11.94,13.18,15.52,17.76,20.9,22.34,20.38,24.52,23.36,25.4,27.24,27.78,30.22,32.66,33.5])\n",
    "\n",
    "corr_np = np.corrcoef(x, y)[0, 1]\n",
    "f\"Correlation Coefficient using numpy:{round(corr_np,3)}\""
   ]
  },
  {
   "cell_type": "code",
   "execution_count": 16,
   "metadata": {},
   "outputs": [
    {
     "data": {
      "text/plain": [
       "'Correlation Coefficient using scipy:0.984'"
      ]
     },
     "execution_count": 16,
     "metadata": {},
     "output_type": "execute_result"
    }
   ],
   "source": [
    "corr_sci = pearsonr(x, y)[0]\n",
    "f\"Correlation Coefficient using scipy:{round(corr_sci,3)}\""
   ]
  },
  {
   "cell_type": "markdown",
   "metadata": {},
   "source": [
    "<div class=\"alert alert-block alert-success\"><b>Problem 13:</b> The following table shows retail sales in drug stores in billions of dollars in the U.S. for years since 1997.\n",
    "\n",
    "Year Retail Sales\n",
    "    \n",
    "0 85.851\n",
    "    \n",
    "3 108.426\n",
    "    \n",
    "6 141.781\n",
    "    \n",
    "9 169.256\n",
    "    \n",
    "12 202.297\n",
    "    \n",
    "15 222.266\n",
    "\n",
    "\n",
    "Let \n",
    "S\n",
    "(\n",
    "t\n",
    ")\n",
    " be the retails sales in billions of dollars in t years since 1997. A linear model for the data is \n",
    "F\n",
    "(\n",
    "t\n",
    ")\n",
    "=\n",
    "9.44\n",
    "t\n",
    "+\n",
    "84.182\n",
    ".\n",
    "\n",
    "\n",
    "\n",
    "Use the above scatter plot to decide whether the linear model fits the data well.\n",
    "The function is not a good model for the data\n",
    "The function is a good model for the data.\n",
    "Correct\n",
    "Estimate the retails sales in the U. S. in 2016. \n",
    "$\n",
    "264\n",
    "Correct billion dollars.\n",
    "Use the model to predict the year in which retails sales will be $231 billion. \n",
    "2013\n",
    "Correct\n",
    "</div>"
   ]
  },
  {
   "cell_type": "markdown",
   "metadata": {},
   "source": [
    "<div class=\"alert alert-block alert-success\"><b>Problem 14: </b>The table below show data that has been collected from different fields from various farms in a certain valley. The table contains the grams of Raspberries tested and the amount of their Vitamin C content in mg. Find a linear regression model that express <b>Vitamin C content</b> as a function of the <b>weight of the Raspberries</b>.\n",
    "<br><br>\n",
    "Round your answers to 3 decimal places\n",
    "\n",
    "\n",
    "Raspberry Type\tgrams\tVitamin C\n",
    "content in mg\n",
    "    \n",
    "Farm A - North Field\t65\t16.3\n",
    "    \n",
    "Farm B - North Field\t70\t18.9\n",
    "    \n",
    "Farm A - South Field\t75\t20.5\n",
    "    \n",
    "Farm B - South Field\t80\t23\n",
    "    \n",
    "Farm C -Small Field\t85\t25.8\n",
    "    \n",
    "Farm D\t90\t28.1\n",
    "    \n",
    "Farm E\t95\t29.8\n",
    "</div>"
   ]
  },
  {
   "attachments": {
    "vitamin%20c%20content.PNG": {
     "image/png": "[encoded data removed]"
    }
   },
   "cell_type": "markdown",
   "metadata": {},
   "source": [
    "![vitamin%20c%20content.PNG](attachment:vitamin%20c%20content.PNG)"
   ]
  },
  {
   "cell_type": "markdown",
   "metadata": {},
   "source": [
    "<div class=\"alert alert-block alert-info\">\n",
    "Prediction (two options) :<br/>\n",
    "1) linear regression function in scipy.stats is one way to do it <br/>\n",
    "2) polyfit within numpy <br/>\n",
    "\n",
    "<b>Option 1:</b> pass in the parameters x and y to the lingress function of scipy.stats package \n",
    "The function returns 5 values: slope, intercept, rvalue, pvalue, stderr \n",
    "To keep things simple you are mostly concerned with the slope and intercept since these can be used to determine the relationship between x and y\n",
    "</div>"
   ]
  },
  {
   "cell_type": "code",
   "execution_count": 17,
   "metadata": {},
   "outputs": [
    {
     "data": {
      "image/png": "[encoded data removed]",
      "text/latex": [
       "$\\displaystyle y = 0.459 x - 13.486$"
      ],
      "text/plain": [
       "y = 0.459⋅x - 13.486"
      ]
     },
     "execution_count": 17,
     "metadata": {},
     "output_type": "execute_result"
    }
   ],
   "source": [
    "import sympy as sym\n",
    "import scipy.stats as st\n",
    "\n",
    "grams = np.array([65,70,75,80,85,90,95])\n",
    "vitaminc = np.array([16.3,18.9,20.5,23,25.8,28.1,29.8])\n",
    "\n",
    "slope,intercept,rvalue,pvalue,stderr = st.linregress(grams,vitaminc)\n",
    "\n",
    "# Use sympy package to display the equation\n",
    "sym.init_printing()\n",
    "x,y = sym.symbols('x,y')\n",
    "f = sym.Eq(y,round(slope,3)*x+round(intercept,3))\n",
    "f"
   ]
  },
  {
   "cell_type": "markdown",
   "metadata": {},
   "source": [
    "<div class=\"alert alert-block alert-info\">\n",
    "    <b>Option 2:</b> This is the second option that can be used for prediction.\n",
    "This is really useful because you can use this to \n",
    "fit non-linear polynomials as well <br/>e.g. y = a*x**2 + b just by\n",
    "specifying the 'degree' of the equation as the third parameter\n",
    "\n",
    "For deeper exploration visit:\n",
    "http://docs.scipy.org/doc/numpy/reference/generated/numpy.polyfit.html \n",
    "</div>"
   ]
  },
  {
   "cell_type": "code",
   "execution_count": 18,
   "metadata": {},
   "outputs": [
    {
     "data": {
      "image/png": "[encoded data removed]",
      "text/latex": [
       "$\\displaystyle y = 0.459 x - 13.486$"
      ],
      "text/plain": [
       "y = 0.459⋅x - 13.486"
      ]
     },
     "execution_count": 18,
     "metadata": {},
     "output_type": "execute_result"
    }
   ],
   "source": [
    "# pass x, y and a degree of 1 since we know there is a linear relationship\n",
    "slope, intercept = np.polyfit(grams, vitaminc, 1)\n",
    "\n",
    "# Use sympy package to display the equation\n",
    "sym.init_printing()\n",
    "x,y = sym.symbols('x,y')\n",
    "f = sym.Eq(y,round(slope,3)*x+round(intercept,3))\n",
    "f"
   ]
  },
  {
   "cell_type": "code",
   "execution_count": 19,
   "metadata": {},
   "outputs": [
    {
     "data": {
      "image/png": "[encoded data removed]",
      "text/plain": [
       "<Figure size 432x288 with 1 Axes>"
      ]
     },
     "metadata": {},
     "output_type": "display_data"
    }
   ],
   "source": [
    "# For demonstration purposes only\n",
    "# Scatter plot of the various points and a least-squares fit line\n",
    "import matplotlib.pyplot as plt\n",
    "plt.figure()\n",
    "plt.plot(grams, vitaminc, 'bs',label='Original datapoints')\n",
    "plt.plot(grams, slope*grams + intercept, 'r-',label='Least-squares Fit Line')\n",
    "plt.xlabel('grams')\n",
    "plt.ylabel('Vitamin C content in mg')\n",
    "plt.legend()\n",
    "plt.show()"
   ]
  },
  {
   "cell_type": "markdown",
   "metadata": {},
   "source": [
    "<div class=\"alert alert-block alert-success\"><b>Problem 15: </b>\n",
    "    The table gives the amount of money (in dollars) spent on football by a major university. Letting  x   represent the number of years since 2009, and letting  y   represent the amount of money spent on football, in thousands of dollars, find the equation of the line of best fit.\n",
    "Round your answers to the nearest hundredth.\n",
    "\n",
    "\n",
    "Year\t2009\t2010\t2011\t2012\t2013\t2014\n",
    " \n",
    "Dollars spent on football\t173,000\t188,000\t210,000\t225,000\t244,000\t285,000\n",
    "</div>\n"
   ]
  },
  {
   "attachments": {
    "football%20spending.PNG": {
     "image/png": "[encoded data removed]"
    }
   },
   "cell_type": "markdown",
   "metadata": {},
   "source": [
    "![football%20spending.PNG](attachment:football%20spending.PNG)"
   ]
  },
  {
   "cell_type": "markdown",
   "metadata": {},
   "source": [
    "<div class=\"alert alert-block alert-success\">    \n",
    "<p>\n",
    "    <b>(a)</b> Find the equation of the line of best fit\n",
    "\n",
    "Then, use your equation to make the following predictions.    \n",
    "    \n",
    "<b>(b)</b> Predict the amount of money that will be spent on football in the year 2022.<br/>\n",
    "\n",
    "<b>(c)</b> Predict the amount of money that will be spent on football in the year 2040.<br/>\n",
    "\n",
    "</div>"
   ]
  },
  {
   "cell_type": "markdown",
   "metadata": {},
   "source": [
    "\n",
    "<div class=\"alert alert-block alert-info\">\n",
    " Since x represents the number of years since 2009, our x-values are 0, 1, 2, 3, 4, 5. Since y represents the amount of money in thousands of dollars, our y-values are 170, 193, 210, 226, 234, 285.\n",
    "</div>"
   ]
  },
  {
   "cell_type": "code",
   "execution_count": 19,
   "metadata": {},
   "outputs": [
    {
     "data": {
      "image/png": "[encoded data removed]",
      "text/latex": [
       "$\\displaystyle y = 21.23 x + 167.76$"
      ],
      "text/plain": [
       "y = 21.23⋅x + 167.76"
      ]
     },
     "execution_count": 19,
     "metadata": {},
     "output_type": "execute_result"
    }
   ],
   "source": [
    "import sympy as sym\n",
    "import scipy.stats as st\n",
    "\n",
    "year = np.array([0, 1, 2, 3, 4, 5])\n",
    "spending = np.array([173, 188, 210, 225, 244, 285])\n",
    "\n",
    "slope,intercept,rvalue,pvalue,stderr = st.linregress(year,spending)\n",
    "\n",
    "slope = round(slope,2)\n",
    "intercept = round(intercept,2)\n",
    "\n",
    "# Use sympy package to display the equation\n",
    "sym.init_printing()\n",
    "x,y = sym.symbols('x,y')\n",
    "f = sym.Eq(y,slope*x+intercept)\n",
    "f"
   ]
  },
  {
   "cell_type": "code",
   "execution_count": 20,
   "metadata": {},
   "outputs": [
    {
     "data": {
      "text/plain": [
       "'It is predicted $443,750 will be spent in 2022'"
      ]
     },
     "execution_count": 20,
     "metadata": {},
     "output_type": "execute_result"
    }
   ],
   "source": [
    "# The year 2022 corresponds to x=13\n",
    "expected_spending = slope*13 + intercept\n",
    "\n",
    "f\"It is predicted ${round(expected_spending*1000):,} will be spent in 2022\""
   ]
  },
  {
   "cell_type": "code",
   "execution_count": 20,
   "metadata": {},
   "outputs": [
    {
     "data": {
      "text/plain": [
       "'It is predicted $730 will be spent in 2040'"
      ]
     },
     "execution_count": 20,
     "metadata": {},
     "output_type": "execute_result"
    }
   ],
   "source": [
    "# The year 2022 corresponds to x=34\n",
    "expected_spending = slope*31 + intercept\n",
    "f\"It is predicted ${round(expected_spending*1000):,} will be spent in 2040\""
   ]
  },
  {
   "cell_type": "code",
   "execution_count": 13,
   "metadata": {},
   "outputs": [
    {
     "data": {
      "text/plain": [
       "446.42857142857144"
      ]
     },
     "execution_count": 13,
     "metadata": {},
     "output_type": "execute_result"
    }
   ],
   "source": [
    "fixed_cost = 50000\n",
    "variable_cost = 18\n",
    "selling_price = 130\n",
    "breakeven=(fixed_cost/(selling_price-variable_cost))\n",
    "breakeven"
   ]
  },
  {
   "cell_type": "code",
   "execution_count": 2,
   "metadata": {},
   "outputs": [
    {
     "data": {
      "text/plain": [
       "'Correlation Coefficient using numpy:-0.9169'"
      ]
     },
     "execution_count": 2,
     "metadata": {},
     "output_type": "execute_result"
    }
   ],
   "source": [
    "from scipy.stats.stats import pearsonr\n",
    "import scipy.stats as st\n",
    "import numpy as np\n",
    "import matplotlib.pyplot as plt\n",
    "\n",
    "x = np.array([158,251,340,350,391,189,219])\n",
    "y = np.array([33.5,28.3,14.5,16.9,10,35.2,41.6])\n",
    "\n",
    "corr_np = np.corrcoef(x, y)[0, 1]\n",
    "f\"Correlation Coefficient using numpy:{round(corr_np,4)}\""
   ]
  },
  {
   "cell_type": "code",
   "execution_count": 5,
   "metadata": {},
   "outputs": [
    {
     "data": {
      "image/png": "[encoded data removed]",
      "text/latex": [
       "$\\displaystyle y = 58.9934 - 0.1227 x$"
      ],
      "text/plain": [
       "y = 58.9934 - 0.1227⋅x"
      ]
     },
     "execution_count": 5,
     "metadata": {},
     "output_type": "execute_result"
    }
   ],
   "source": [
    "import sympy as sym\n",
    "import scipy.stats as st\n",
    "\n",
    "a = np.array([158,251,340,350,391,189,219])\n",
    "b = np.array([33.5,28.3,14.5,16.9,10,35.2,41.6])\n",
    "\n",
    "slope,intercept,rvalue,pvalue,stderr = st.linregress(a,b)\n",
    "\n",
    "# Use sympy package to display the equation\n",
    "sym.init_printing()\n",
    "x,y = sym.symbols('x,y')\n",
    "f = sym.Eq(y,round(slope,4)*x+round(intercept,4))\n",
    "f"
   ]
  },
  {
   "cell_type": "code",
   "execution_count": null,
   "metadata": {},
   "outputs": [],
   "source": []
  }
 ],
 "metadata": {
  "kernelspec": {
   "display_name": "Python 3 (ipykernel)",
   "language": "python",
   "name": "python3"
  },
  "language_info": {
   "codemirror_mode": {
    "name": "ipython",
    "version": 3
   },
   "file_extension": ".py",
   "mimetype": "text/x-python",
   "name": "python",
   "nbconvert_exporter": "python",
   "pygments_lexer": "ipython3",
   "version": "3.9.7"
  },
  "varInspector": {
   "cols": {
    "lenName": 16,
    "lenType": 16,
    "lenVar": 40
   },
   "kernels_config": {
    "python": {
     "delete_cmd_postfix": "",
     "delete_cmd_prefix": "del ",
     "library": "var_list.py",
     "varRefreshCmd": "print(var_dic_list())"
    },
    "r": {
     "delete_cmd_postfix": ") ",
     "delete_cmd_prefix": "rm(",
     "library": "var_list.r",
     "varRefreshCmd": "cat(var_dic_list()) "
    }
   },
   "types_to_exclude": [
    "module",
    "function",
    "builtin_function_or_method",
    "instance",
    "_Feature"
   ],
   "window_display": false
  }
 },
 "nbformat": 4,
 "nbformat_minor": 4
}
