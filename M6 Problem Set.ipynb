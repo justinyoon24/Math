{
 "cells": [
  {
   "cell_type": "markdown",
   "metadata": {},
   "source": [
    "<div class=\"alert alert-block alert-success\"><b>Problem 2:</b> Find the following limit: <br/>\n",
    "    \n",
    "$$\\lim_{x \\to 7} \\frac{x^3 - 9x^2 + 9x + 35}{x-7}$$ \n",
    "    \n",
    "<br/>\n",
    "</div>\n"
   ]
  },
  {
   "cell_type": "code",
   "execution_count": 1,
   "metadata": {},
   "outputs": [
    {
     "name": "stdout",
     "output_type": "stream",
     "text": [
      "10\n"
     ]
    }
   ],
   "source": [
    "from sympy import Symbol, limit\n",
    "\n",
    "x = Symbol('x')\n",
    "f_x = (x**3 - 4*x**2 + 7*x - 12) / (x-3)\n",
    "li = limit(f_x, x, 3)\n",
    "print(li)"
   ]
  },
  {
   "cell_type": "markdown",
   "metadata": {},
   "source": [
    "<div class=\"alert alert-block alert-success\"><b>Problem 6:</b> \n",
    "    \n",
    "An antibiotic is applied to a culture of bacteria. The number of bacteria cells remaining in the culture is given by $$ p(t)=13500/(7t^2+3) $$ \n",
    "    (t≥0 where t represents elapsed time in seconds.)\n",
    "    <br/>\n",
    "<br/>\n",
    "Determine the rate of change with respect to time: p'(t)=\n",
    "    \n",
    "Determine the rate of change at t=7 : cells per second. (Round your answer to 4 decimals as needed.)\n",
    "<br/>\n",
    "</div>"
   ]
  },
  {
   "cell_type": "code",
   "execution_count": 55,
   "metadata": {},
   "outputs": [
    {
     "data": {
      "text/latex": [
       "$\\displaystyle - \\frac{135000 t}{\\left(5 t^{2} + 7\\right)^{2}}$"
      ],
      "text/plain": [
       "-135000*t/(5*t**2 + 7)**2"
      ]
     },
     "metadata": {},
     "output_type": "display_data"
    },
    {
     "name": "stdout",
     "output_type": "stream",
     "text": [
      "The rate of change at t=7 is  -149.77810650887574\n"
     ]
    }
   ],
   "source": [
    "from sympy import Symbol, diff, lambdify\n",
    "from IPython.display import display\n",
    "\n",
    "t = Symbol('t')\n",
    "p = 13500/(5*t**2 + 7)\n",
    "der_f = p.diff(t)\n",
    "func_der_f = lambdify(t, der_f)\n",
    "\n",
    "\n",
    "display(der_f)\n",
    "\n",
    "print(\"The rate of change at t=7 is \",func_der_f(3))\n"
   ]
  },
  {
   "cell_type": "code",
   "execution_count": 38,
   "metadata": {},
   "outputs": [
    {
     "data": {
      "text/latex": [
       "$\\displaystyle - 3 t^{2} + 3 t + 66$"
      ],
      "text/plain": [
       "-3*t**2 + 3*t + 66"
      ]
     },
     "metadata": {},
     "output_type": "display_data"
    },
    {
     "data": {
      "text/latex": [
       "$\\displaystyle 3 - 6 t$"
      ],
      "text/plain": [
       "3 - 6*t"
      ]
     },
     "metadata": {},
     "output_type": "display_data"
    },
    {
     "data": {
      "text/latex": [
       "$\\displaystyle -6$"
      ],
      "text/plain": [
       "-6"
      ]
     },
     "metadata": {},
     "output_type": "display_data"
    },
    {
     "name": "stdout",
     "output_type": "stream",
     "text": [
      "36.029999999999994\n",
      "The rate of change at t=7 is  -19.200000000000003\n",
      "-6\n"
     ]
    }
   ],
   "source": [
    "from sympy import Symbol, diff, lambdify\n",
    "from IPython.display import display\n",
    "\n",
    "t = Symbol('t')\n",
    "p = -3*t**2+3*t+66\n",
    "p_func = lambdify(t, p)\n",
    "der_f = p.diff(t)\n",
    "func_der_f = lambdify(t, der_f)\n",
    "der_f2 = der_f.diff(t)\n",
    "func_der_f2 = lambdify(t, der_f2)\n",
    "display(p)\n",
    "display(der_f)\n",
    "display(der_f2)\n",
    "\n",
    "print(p_func(3.7))\n",
    "print(\"The rate of change at t=7 is \",func_der_f(3.7))\n",
    "print(func_der_f2(3.7))"
   ]
  },
  {
   "cell_type": "markdown",
   "metadata": {},
   "source": [
    "### <div class=\"alert alert-block alert-success\"><b>Problem 7:</b> \n",
    "Winter Fun© has determined that the total revenue (in dollars) for its west coast factory from the sale of x Blazing Blue snowmobiles is given by\n",
    "\n",
    "$$ R(x)=2500x / {ln(5x+5)} $$\n",
    "\n",
    "Find the Marginal Revenue. Simplify as needed.\n",
    "<br/>\n",
    "\n",
    "a) R'(x)=\n",
    "<br/>\n",
    "<br/>\n",
    "Find the Marginal Revenue when 175 Blazing Blue snowmobiles are produced.\n",
    "<br/><br/>\n",
    "b) R'(175)= Round to two decimals as needed.<br/>\n",
    "</div>"
   ]
  },
  {
   "cell_type": "code",
   "execution_count": 25,
   "metadata": {},
   "outputs": [
    {
     "data": {
      "text/latex": [
       "$\\displaystyle - \\frac{7000 x}{\\left(5 x + 5\\right) \\log{\\left(5 x + 5 \\right)}^{2}} + \\frac{1400}{\\log{\\left(5 x + 5 \\right)}}$"
      ],
      "text/plain": [
       "-7000*x/((5*x + 5)*log(5*x + 5)**2) + 1400/log(5*x + 5)"
      ]
     },
     "metadata": {},
     "output_type": "display_data"
    },
    {
     "name": "stdout",
     "output_type": "stream",
     "text": [
      "Marginal Revenue when 175 Blazing Blue snowmobiles are produced = 189.14\n"
     ]
    }
   ],
   "source": [
    "from sympy import symbols, diff, lambdify, log\n",
    "from IPython.display import display\n",
    "\n",
    "x = symbols('x')\n",
    "R = (1400 * x) / log(5*x + 5)\n",
    "R_p = R.diff(x)\n",
    "func_R_p = lambdify(x,R_p)\n",
    "# a)\n",
    "display(R_p)\n",
    "\n",
    "# b)\n",
    "\n",
    "print(\"Marginal Revenue when 175 Blazing Blue snowmobiles are produced =\", round(func_R_p(100),2))\n",
    "# a = round(bmi_f(215, 6*12+2))\n",
    "# print(f\"a. BMI = {a}\")\n",
    "\n",
    "# targ_weight = (25.2 * (6*12+2)**2)/703\n",
    "# weight_loss = round(215 - targ_weight)\n",
    "# print(f\"b. The person would have to  lose {weight_loss} pounds\")\n",
    "\n",
    "# bmi_128 = (703 * 128) / h**2\n",
    "# bmi_128_der = bmi_128.diff(h)\n",
    "# print(f\"c. The rate of change with respect to height is {bmi_128_der}\")\n",
    "\n",
    "# bmi_128_der_f = lambdify(h, bmi_128_der)\n",
    "# print(f\"d. f\\'(64) = {bmi_128_der_f(64):.2f}\")  # The :.2f tells the print statement to format the value as a float with 2 decimal places."
   ]
  },
  {
   "cell_type": "markdown",
   "metadata": {},
   "source": [
    "<div class=\"alert alert-block alert-success\"><b>Problem 9:</b> The amount of funds available for a particular endowment fund (in thousands of dollars) after t years is given by:\n",
    "\n",
    "$$ f(t)=e^{(0.5t+5)} $$\n",
    "\n",
    "<br/>\n",
    "Find the rate of change in the endowment fund after 4 years. $\n",
    "<br/>\n",
    "Round your answer to two decimals as needed.\n",
    "<br/>\n",
    "<br/></div>"
   ]
  },
  {
   "cell_type": "code",
   "execution_count": 42,
   "metadata": {
    "scrolled": true
   },
   "outputs": [
    {
     "name": "stdout",
     "output_type": "stream",
     "text": [
      "The rate of change in the endowment fund after 4 years (in thousands) = 2701.310497767458\n"
     ]
    }
   ],
   "source": [
    "from sympy import Symbol, diff, lambdify, exp\n",
    "\n",
    "t = Symbol('t')\n",
    "f = exp(0.45 * t + 6)\n",
    "f_prime = f.diff(t)\n",
    "P_prime_f = lambdify(t, f_prime)\n",
    "\n",
    "print(\"The rate of change in the endowment fund after 4 years (in thousands) =\",(P_prime_f(6)))"
   ]
  },
  {
   "cell_type": "code",
   "execution_count": 43,
   "metadata": {},
   "outputs": [
    {
     "data": {
      "text/latex": [
       "$\\displaystyle \\frac{6 \\left(- 12.5 t^{4} - 8.0 t^{3}\\right)}{\\left(5 t^{5} + 4 t^{4}\\right)^{1.5}}$"
      ],
      "text/plain": [
       "6*(-12.5*t**4 - 8.0*t**3)*(5*t**5 + 4*t**4)**(-1.5)"
      ]
     },
     "metadata": {},
     "output_type": "display_data"
    },
    {
     "name": "stdout",
     "output_type": "stream",
     "text": [
      "The rate of change at t=7 is  -6.670925442972816e-07\n"
     ]
    }
   ],
   "source": [
    "from sympy import Symbol, diff, lambdify\n",
    "from IPython.display import display\n",
    "\n",
    "t = Symbol('t')\n",
    "p = 6*(5*t**5 + 4*t**4)**(-1/2)\n",
    "der_f = p.diff(t)\n",
    "func_der_f = lambdify(t, der_f)\n",
    "\n",
    "\n",
    "display(der_f)\n",
    "\n",
    "print(\"The rate of change at t=7 is \",func_der_f(100))\n"
   ]
  },
  {
   "cell_type": "code",
   "execution_count": 54,
   "metadata": {},
   "outputs": [
    {
     "data": {
      "text/latex": [
       "$\\displaystyle 1$"
      ],
      "text/plain": [
       "1"
      ]
     },
     "metadata": {},
     "output_type": "display_data"
    },
    {
     "name": "stdout",
     "output_type": "stream",
     "text": [
      "The rate of change at t=7 is  1\n"
     ]
    }
   ],
   "source": [
    "from sympy import Symbol, diff, lambdify\n",
    "from IPython.display import display\n",
    "\n",
    "t = Symbol('t')\n",
    "p = -(-t +7.5) + 9 \n",
    "der_f = p.diff(t)\n",
    "func_der_f = lambdify(t, der_f)\n",
    "\n",
    "\n",
    "display(der_f)\n",
    "\n",
    "print(\"The rate of change at t=7 is \",func_der_f(100))\n"
   ]
  },
  {
   "cell_type": "markdown",
   "metadata": {},
   "source": [
    "<div class=\"alert alert-block alert-success\"><b>Problem 11:</b> \n",
    "    The labor costs to produce luxury yachts can be modeled by: \n",
    "    $$ f(x)=(x^2+7x+4)^2 $$ \n",
    "    (x represents the number of yachts produced)\n",
    "<br/>\n",
    "Find the marginal cost to produce 10 yachts \\$\n",
    "\n",
    "<br/>\n",
    "Find the marginal cost to produce 20 yachts \\$\n",
    "<br/>\n",
    "\n",
    "    \n",
    "</div>\n"
   ]
  },
  {
   "cell_type": "code",
   "execution_count": 44,
   "metadata": {},
   "outputs": [
    {
     "name": "stdout",
     "output_type": "stream",
     "text": [
      "Marginal cost to produce 10 yachts $40162\n",
      "Marginal cost to produce 20 yachts $125622\n"
     ]
    }
   ],
   "source": [
    "from sympy import symbols, diff, lambdify, log\n",
    "from IPython.display import display\n",
    "\n",
    "x = symbols('x')\n",
    "f = (x**2 + 3*x + 7)**2\n",
    "f_x = f.diff(x)\n",
    "func_f_x = lambdify(x,f_x)\n",
    "# a)\n",
    "print(\"Marginal cost to produce 10 yachts $\",func_f_x(20),sep=\"\")\n",
    "print(\"Marginal cost to produce 20 yachts $\",func_f_x(30),sep=\"\")\n",
    "# b)\n",
    "\n",
    "#print(\"Marginal Revenue when 175 Blazing Blue snowmobiles are produced =\", round(func_R_p(175),2))"
   ]
  },
  {
   "cell_type": "markdown",
   "metadata": {},
   "source": [
    "<div class=\"alert alert-block alert-success\"><b>Problem 14:</b> \n",
    "    The number of per capita cumulative cases of COVID-19 in a particular country can be modeled by the following where t represents the number of days after the first 100 cases. \n",
    "    $$ g(t)=ln(3t^5 ) $$ \n",
    "    (x represents the number of yachts produced)\n",
    "<br/>\n",
    "    \n",
    "a) Find g'(t) .\n",
    "\n",
    "b) Determine the rate of change in the number of cases after 156 days.\n",
    "\n",
    "<br/>\n",
    "\n",
    "    \n",
    "</div>\n"
   ]
  },
  {
   "cell_type": "code",
   "execution_count": 57,
   "metadata": {},
   "outputs": [
    {
     "data": {
      "text/latex": [
       "$\\displaystyle \\frac{7}{t}$"
      ],
      "text/plain": [
       "7/t"
      ]
     },
     "metadata": {},
     "output_type": "display_data"
    },
    {
     "name": "stdout",
     "output_type": "stream",
     "text": [
      "Cases per day 0.08860759493670886\n"
     ]
    }
   ],
   "source": [
    "from sympy import symbols, diff, lambdify, log\n",
    "from IPython.display import display\n",
    "\n",
    "t = symbols('t')\n",
    "g = (log(11*t**7))\n",
    "g_t = g.diff(t)\n",
    "func_g_t = lambdify(t,g_t)\n",
    "display(g_t)\n",
    "# a)\n",
    "print(\"Cases per day \",func_g_t(79),sep=\"\")\n",
    "# b)\n",
    "\n",
    "#print(\"Marginal Revenue when 175 Blazing Blue snowmobiles are produced =\", round(func_R_p(175),2))"
   ]
  },
  {
   "cell_type": "markdown",
   "metadata": {},
   "source": [
    "<div class=\"alert alert-block alert-success\"><b>Problem 14:</b> \n",
    "The depth (in feet) of water at a dock changes with the rise and fall of tides. The depth is modeled by the following function where t is the number of hours after midnight. \n",
    "<br/>\n",
    "    $$ D(t)=4 sin(π/6 t+7π/6)+3 $$ \n",
    "Find the rate at which the depth is changing at 1 a.m.  Round your answer to 4 decimal places.\n",
    "\n",
    "<br/>\n",
    "\n",
    "    \n",
    "</div>\n",
    "\n",
    "\n"
   ]
  },
  {
   "cell_type": "code",
   "execution_count": 58,
   "metadata": {},
   "outputs": [
    {
     "name": "stdout",
     "output_type": "stream",
     "text": [
      "Rate at which the depth is changing at 1 a.m =1.1107\n"
     ]
    }
   ],
   "source": [
    "from sympy import symbols, diff, lambdify, log, sin, pi\n",
    "from IPython.display import display\n",
    "\n",
    "t = symbols('t')\n",
    "d = 2*(sin((pi/4)*t + (7*pi/4)))+5\n",
    "d_prime = d.diff(t)\n",
    "func_d_prime = lambdify(t,d_prime)\n",
    "# a)\n",
    "print(\"Rate at which the depth is changing at 1 a.m =\",round(func_d_prime(2),4),sep=\"\")\n",
    "# b)\n",
    "\n",
    "#print(\"Marginal Revenue when 175 Blazing Blue snowmobiles are produced =\", round(func_R_p(175),2))"
   ]
  },
  {
   "cell_type": "code",
   "execution_count": 4,
   "metadata": {},
   "outputs": [
    {
     "name": "stdout",
     "output_type": "stream",
     "text": [
      "The rate of change after 2 years  = -90.43113313725773\n",
      "The rate of change after 5 years  = -32.609009043413124\n",
      "The rate of change after 9 years  = -8.369453596767945\n"
     ]
    }
   ],
   "source": [
    "from sympy import Symbol, diff, lambdify, exp\n",
    "\n",
    "t = Symbol('t')\n",
    "f = 525*exp(-0.34 * t)\n",
    "f_prime = f.diff(t)\n",
    "P_prime_f = lambdify(t, f_prime)\n",
    "\n",
    "print(\"The rate of change after 2 years  =\",(P_prime_f(2)))\n",
    "print(\"The rate of change after 5 years  =\",(P_prime_f(5)))\n",
    "print(\"The rate of change after 9 years  =\",(P_prime_f(9)))"
   ]
  },
  {
   "cell_type": "code",
   "execution_count": null,
   "metadata": {},
   "outputs": [],
   "source": []
  }
 ],
 "metadata": {
  "kernelspec": {
   "display_name": "Python 3",
   "language": "python",
   "name": "python3"
  },
  "language_info": {
   "codemirror_mode": {
    "name": "ipython",
    "version": 3
   },
   "file_extension": ".py",
   "mimetype": "text/x-python",
   "name": "python",
   "nbconvert_exporter": "python",
   "pygments_lexer": "ipython3",
   "version": "3.8.5"
  }
 },
 "nbformat": 4,
 "nbformat_minor": 4
}
