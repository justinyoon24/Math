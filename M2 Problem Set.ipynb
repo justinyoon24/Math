{
 "cells": [
  {
   "cell_type": "markdown",
   "metadata": {},
   "source": [
    "Module 2"
   ]
  },
  {
   "cell_type": "markdown",
   "metadata": {},
   "source": [
    "<div class=\"alert alert-block alert-success\"><b>Problem 1:</b>\n",
    "What is the solution of this system of linear equations?\n",
    "(\n",
    "4\n",
    "Correct,\n",
    "5\n",
    "Correct)\n",
    "</div>\n"
   ]
  },
  {
   "cell_type": "markdown",
   "metadata": {},
   "source": [
    "<div class=\"alert alert-block alert-success\"><b>Problem 2:</b>\n",
    "Consider the following system of equations:\n",
    "\n",
    "{\n",
    "1\n",
    "x\n",
    "+\n",
    "7\n",
    "y\n",
    "=\n",
    "64\n",
    "−\n",
    "4\n",
    "x\n",
    "+\n",
    "5\n",
    "y\n",
    "=\n",
    "23\n",
    "\n",
    "\n",
    "True or False: The graphs of the equations of the system will intersect at the point \n",
    "(\n",
    "8\n",
    ",\n",
    "8\n",
    ")\n",
    ".\n",
    "\n",
    "True\n",
    "False\n",
    "Correct\n",
    "</div>"
   ]
  },
  {
   "cell_type": "code",
   "execution_count": 14,
   "metadata": {
    "jupyter": {
     "outputs_hidden": false
    }
   },
   "outputs": [
    {
     "name": "stdout",
     "output_type": "stream",
     "text": [
      "53/11 is supposed to be 8\n",
      "93/11 is supposed to be 8\n"
     ]
    }
   ],
   "source": [
    "import sympy as sym\n",
    "# Use sympy package to display the equation\n",
    "sym.init_printing()\n",
    "#sym.solve()\n",
    "x,y = sym.symbols('x,y')\n",
    "\n",
    "solns = sym.solve([\n",
    "    1*x + 7*y - 64, \n",
    "    -4*x + 5*y - 23],\n",
    "    [x, y])\n",
    "print(f\"{solns[x]} is supposed to be 8\")\n",
    "print(f\"{solns[y]} is supposed to be 8\")"
   ]
  },
  {
   "cell_type": "markdown",
   "metadata": {},
   "source": [
    "<div class=\"alert alert-block alert-success\"><b>Problem 3: </b> Solve the system of equations by graphing:\n",
    "\n",
    "{\n",
    "2\n",
    "x\n",
    "+\n",
    "y\n",
    "=\n",
    "4\n",
    "−\n",
    "2\n",
    "x\n",
    "+\n",
    "2\n",
    "y\n",
    "=\n",
    "2\n",
    "\n",
    "\n",
    "(1,2)\n",
    "Correct\n",
    " Enter your answer as an ordered pair.\n",
    "</div>"
   ]
  },
  {
   "cell_type": "code",
   "execution_count": 15,
   "metadata": {
    "jupyter": {
     "outputs_hidden": false
    }
   },
   "outputs": [
    {
     "name": "stdout",
     "output_type": "stream",
     "text": [
      "Intersectiion is (1, 2) \n"
     ]
    },
    {
     "data": {
      "image/png": "[encoded data removed]",
      "text/plain": [
       "<Figure size 432x288 with 1 Axes>"
      ]
     },
     "metadata": {
      "needs_background": "light"
     },
     "output_type": "display_data"
    }
   ],
   "source": [
    "import sympy as sym\n",
    "import numpy as np\n",
    "import matplotlib.pyplot as plt\n",
    "# Use sympy package to display the equation\n",
    "sym.init_printing()\n",
    "x,y = sym.symbols('x,y')\n",
    "\n",
    "solns = sym.solve([\n",
    "    2*x + 1*y - 4,   # Set equations equal to 0 for solving\n",
    "    -2*x + 2*y - 2],\n",
    "    [x, y])\n",
    "print(f\"Intersectiion is ({solns[x]}, {solns[y]}) \")\n",
    "\n",
    "\n",
    "# Eq 1\n",
    "# 2x + y = 1\n",
    "# y = -2x + 1\n",
    "# Eq 2\n",
    "# 3x + 3y = - 3\n",
    "# 3y = -3x - 3\n",
    "# y = -x - 1\n",
    "\n",
    "x_vals = np.arange(0, 10)\n",
    "y1 = -2 * x_vals + 4  # Eq 1\n",
    "y2 = x_vals + 1  # Eq 2\n",
    "\n",
    "plt.plot(x_vals, y1)\n",
    "plt.plot(x_vals, y2)\n",
    "plt.show()"
   ]
  },
  {
   "cell_type": "markdown",
   "metadata": {},
   "source": [
    "<div class=\"alert alert-block alert-success\"><b>Problem 4: </b>\n",
    "Solve the system of equations:\n",
    "\n",
    "{\n",
    "3\n",
    "x\n",
    "−\n",
    "6\n",
    "y\n",
    "=\n",
    "42\n",
    "5\n",
    "x\n",
    "−\n",
    "5\n",
    "y\n",
    "=\n",
    "45\n",
    "\n",
    "</div>"
   ]
  },
  {
   "cell_type": "code",
   "execution_count": 16,
   "metadata": {
    "jupyter": {
     "outputs_hidden": false
    }
   },
   "outputs": [
    {
     "name": "stdout",
     "output_type": "stream",
     "text": [
      "The solution is x:4 and y:-5\n"
     ]
    }
   ],
   "source": [
    "import sympy as sym\n",
    "# Use sympy package to display the equation\n",
    "sym.init_printing()\n",
    "x,y = sym.symbols('x,y')\n",
    "\n",
    "sollns = sym.solve([\n",
    "    3  * x - 6 * y - 42,\n",
    "    5 * x - 5 * y - 45],\n",
    "    [x, y])\n",
    "print(f\"The solution is x:{sollns[x]} and y:{sollns[y]}\")"
   ]
  },
  {
   "cell_type": "markdown",
   "metadata": {},
   "source": [
    "<div class=\"alert alert-block alert-success\"><b>Problem 5: </b>\n",
    "In 1982, the US Mint changed the composition of pennies from all copper to zinc with copper coating. Pennies made prior to 1982 weigh \n",
    "3.1\n",
    " grams. Pennies made since 1982 weight \n",
    "2.5\n",
    " grams. Suppose you have a bag of \n",
    "1356\n",
    " pennies, and the bag weighs \n",
    "3791.4\n",
    " grams.\n",
    "\n",
    "Let \n",
    "x\n",
    " represent the number of pennies made prior to 1982 and let \n",
    "y\n",
    " represent the number of pennies made after 1982. Set up the system of equations.\n",
    "\n",
    "Write the equation that represents the total number of pennies.\n",
    "x+y =\n",
    "Correct\n",
    "   =  \n",
    "1356\n",
    "Correct\n",
    "\n",
    "Write the equation that represents the total weight of the pennies.\n",
    "3.1x+2.5y=\n",
    "Correct\n",
    "   =  \n",
    "3791.4\n",
    "Correct\n",
    "\n",
    "How many pennies from each time period are there in the bag?\n",
    "\n",
    "Number of pennies made prior to 1982: \n",
    "669\n",
    "Correct\n",
    "\n",
    "Number of pennies made after 1982: \n",
    "687\n",
    "Correct\n",
    "</div>"
   ]
  },
  {
   "cell_type": "code",
   "execution_count": 17,
   "metadata": {
    "jupyter": {
     "outputs_hidden": false
    }
   },
   "outputs": [
    {
     "name": "stdout",
     "output_type": "stream",
     "text": [
      "There are 669 old pennies and 687 new pennies\n"
     ]
    }
   ],
   "source": [
    "import sympy as sym\n",
    "# Use sympy package to display the equation\n",
    "sym.init_printing()\n",
    "\n",
    "# X is old pennies, Y is new pennies\n",
    "x,y = sym.symbols('x,y')\n",
    "\n",
    "solns = sym.solve([\n",
    "    3.1*x + 2.5*y - 3791.4,   # weight\n",
    "    x + y - 1356],  # count\n",
    "    [x, y])\n",
    "print(f\"There are {int(solns[x])} old pennies and {int(solns[y])} new pennies\")"
   ]
  },
  {
   "cell_type": "markdown",
   "metadata": {},
   "source": [
    "<div class=\"alert alert-block alert-success\"><b>Problem 6:</b> Frank goes to a fast food restaurant and orders some tacos and burritos. He sees on the nutrition menu that tacos are \n",
    "200\n",
    " calories and burritos are \n",
    "380\n",
    " calories. Suppose he ordered \n",
    "9\n",
    " items and consumed a total of \n",
    "2160\n",
    " calories.\n",
    "\n",
    "Let \n",
    "t\n",
    " be the number of tacos eaten and let \n",
    "b\n",
    " be the number of burritos eaten. Set up the system of equations.\n",
    "\n",
    "Write the equation for the total number of tacos and burritos eaten.\n",
    "\n",
    "Correct\n",
    "t+b\n",
    "   =  \n",
    "9\n",
    "Correct\n",
    "\n",
    "Write the equation for the total calories consumed.\n",
    "\n",
    "Correct\n",
    "200t+360b\n",
    "   =  \n",
    "2160\n",
    "Correct\n",
    "\n",
    "How many tacos and how many burritos did Frank order and eat?\n",
    "\n",
    "Tacos eaten: \n",
    "7\n",
    "Correct\n",
    "\n",
    "Burritos eaten: \n",
    "2\n",
    "Correct\n",
    "\n",
    "</div>"
   ]
  },
  {
   "cell_type": "code",
   "execution_count": 18,
   "metadata": {
    "jupyter": {
     "outputs_hidden": false
    }
   },
   "outputs": [
    {
     "name": "stdout",
     "output_type": "stream",
     "text": [
      "Ken ate at astounding 7 tacos and 2 burriots\n"
     ]
    }
   ],
   "source": [
    "import sympy as sym\n",
    "# Use sympy package to display the equation\n",
    "sym.init_printing()\n",
    "\n",
    "# X is tacos, Y is burritos\n",
    "x,y = sym.symbols('x,y')\n",
    "\n",
    "solns = sym.solve([\n",
    "    200 * x + 380 * y - 2160,   # callories\n",
    "    x + y - 9],  # count\n",
    "    [x, y])\n",
    "print(f\"Ken ate at astounding {solns[x]} tacos and {solns[y]} burriots\")"
   ]
  },
  {
   "cell_type": "markdown",
   "metadata": {},
   "source": [
    "<div class=\"alert alert-block alert-success\"><b>Problem 7:</b> Salvador and Savannah are selling boxes of fruit for a Habitat for Humanity fundraiser. Customers can buy small boxes of fruit and large boxes of fruit. Salvador sold 24 small boxes of fruit and 15 large boxes of fruit for a total of $511.5. Savannah sold 10 small boxes of fruit and 14 large boxes of fruit for a total of $341.\n",
    "\n",
    "Let \n",
    "S\n",
    " represent the cost of one small box of fruit and let \n",
    "L\n",
    " represent the cost of one large box of fruit. Set up the system of equations.\n",
    "\n",
    "Write the equation representing the total cost of boxes sold by Salvador.\n",
    "\n",
    "Correct\n",
    "24S+5L   =  \n",
    "511.5\n",
    "Correct\n",
    "\n",
    "Write the equation representing the total cost of the boxes sold by Savannah.\n",
    "\n",
    "Correct\n",
    "10S+14L   =  \n",
    "341\n",
    "Correct\n",
    "\n",
    "Find the cost of one small box of fruit and the cost of one large box of fruit.\n",
    "\n",
    "Cost of small box: $\n",
    "11\n",
    "Correct\n",
    "Cost of large box: $\n",
    "16.5\n",
    "Correct\n",
    "Score\n",
    "</div>"
   ]
  },
  {
   "cell_type": "code",
   "execution_count": 19,
   "metadata": {
    "jupyter": {
     "outputs_hidden": false
    }
   },
   "outputs": [
    {
     "name": "stdout",
     "output_type": "stream",
     "text": [
      "\n",
      "Small box and large box costs\n",
      "\n",
      "[[11. ]\n",
      " [16.5]]\n"
     ]
    }
   ],
   "source": [
    "from numpy import matrix, transpose\n",
    "from numpy import linalg\n",
    "M= [[24, 15], # Roberto's sales\n",
    "    [10, 14]]  # Rosa's sales\n",
    "M= matrix(M)\n",
    "O= [511.5,  # Roberto total\n",
    "    341]  # Rosa total\n",
    "O= transpose(matrix(O)) \n",
    "result= linalg.solve(M,O)\n",
    "print ('\\nSmall box and large box costs\\n') \n",
    "print (result)"
   ]
  },
  {
   "cell_type": "markdown",
   "metadata": {},
   "source": [
    "<div class=\"alert alert-block alert-success\"><b>Problem 8:</b> Find the solution to the system of equations:\n",
    "⎧\n",
    "⎪\n",
    "⎨\n",
    "⎪\n",
    "⎩\n",
    "x\n",
    "−\n",
    "2\n",
    "y\n",
    "+\n",
    "z\n",
    "=\n",
    "3\n",
    "    \n",
    "y\n",
    "+\n",
    "2\n",
    "z\n",
    "=\n",
    "4\n",
    "    \n",
    "x\n",
    "+\n",
    "y\n",
    "+\n",
    "3\n",
    "z\n",
    "=\n",
    "7\n",
    "\n",
    "\n",
    "x\n",
    "=\n",
    " \n",
    "Correct  \n",
    "y\n",
    "=\n",
    " \n",
    "Correct  \n",
    "z\n",
    "=\n",
    " \n",
    "Correct  \n",
    "</div>"
   ]
  },
  {
   "cell_type": "code",
   "execution_count": 20,
   "metadata": {
    "jupyter": {
     "outputs_hidden": false
    }
   },
   "outputs": [
    {
     "name": "stdout",
     "output_type": "stream",
     "text": [
      "x: 1.0, y: 0.0, z: 2.0\n"
     ]
    }
   ],
   "source": [
    "import sympy as sym\n",
    "# Use sympy package to display the equation\n",
    "sym.init_printing()\n",
    "x,y,z = sym.symbols('x,y,z')\n",
    "\n",
    "solns = sym.solve([\n",
    "    x - 2*y + z - 3,\n",
    "    y + 2*z - 4,\n",
    "    x+ y + 3*z -7],\n",
    "    [x, y, z])\n",
    "print(f\"x: {float(solns[x])}, y: {float(solns[y])}, z: {float(solns[z])}\")"
   ]
  },
  {
   "cell_type": "markdown",
   "metadata": {},
   "source": [
    "<div class=\"alert alert-block alert-success\"><b>Problem 9:</b>\n",
    "A startup company spent $\n",
    "151287\n",
    " on a combination of \n",
    "171\n",
    " tablets, laptops, and desktop computers. Each tablet cost $\n",
    "545\n",
    ", each laptop cost $\n",
    "1178\n",
    ", and each desktop computer cost $\n",
    "1423\n",
    ". Based on the structure of the company, they purchased twice as many tablets as laptops.\n",
    "\n",
    "Let \n",
    "x\n",
    " be the number of tablets purchased, \n",
    "y\n",
    " the number of laptops purchased, and \n",
    "z\n",
    " the number of desktops purchased. Set up the system of equations.\n",
    "\n",
    "Correct\n",
    "x+y+z   = \n",
    "171\n",
    "\n",
    "Correct\n",
    "545x+1178y+1423z   = \n",
    "151287\n",
    "\n",
    "Correct\n",
    "x-2y   = \n",
    "0\n",
    "\n",
    "\n",
    "How many of each type of equipment did they buy?\n",
    "\n",
    "Number of tablets: \n",
    "92\n",
    "Correct\n",
    "\n",
    "Number of laptops: \n",
    "46\n",
    "Correct\n",
    "\n",
    "Number of desktops: \n",
    "33\n",
    "Correct</div>"
   ]
  },
  {
   "cell_type": "code",
   "execution_count": 21,
   "metadata": {
    "jupyter": {
     "outputs_hidden": false
    }
   },
   "outputs": [
    {
     "name": "stdout",
     "output_type": "stream",
     "text": [
      "\n",
      "Right Hand Side of Equation\n",
      "[[   171]\n",
      " [151287]\n",
      " [     0]]\n",
      "\n",
      "Matrix A\n",
      "[[   1    1    1]\n",
      " [ 545 1178 1423]\n",
      " [   1   -2    0]]\n"
     ]
    },
    {
     "data": {
      "text/plain": [
       "matrix([[92.],\n",
       "        [46.],\n",
       "        [33.]])"
      ]
     },
     "execution_count": 21,
     "metadata": {},
     "output_type": "execute_result"
    }
   ],
   "source": [
    "rhs = [171, 151287, 0]\n",
    "rhs = np.matrix(rhs)\n",
    "rhs = np.transpose(rhs)\n",
    "print('\\nRight Hand Side of Equation')\n",
    "print(rhs)\n",
    "\n",
    "A = [[1, 1, 1],\n",
    "     [545, 1178, 1423],\n",
    "     [1, -2, 0]]\n",
    "A = np.matrix(A)\n",
    "print('\\nMatrix A')\n",
    "print(A)\n",
    "IA = np.linalg.inv(A)\n",
    "\n",
    "result = np.dot(IA, rhs)\n",
    "result = np.rint(result)\n",
    "result"
   ]
  },
  {
   "cell_type": "markdown",
   "metadata": {},
   "source": [
    "<div class=\"alert alert-block alert-success\"><b>Problem 10:</b>\n",
    "A brass manufacturer makes three different type of wholesale brass blocks from copper and zinc according to the following matrix.\n",
    "\n",
    " \t Brass Blends \n",
    " \t   High brass   \t   Muntz metal   \t   Gilding metal   \n",
    "Copper      \t\n",
    "65\n",
    "%\n",
    "60\n",
    "%\n",
    "95\n",
    "%\n",
    "\n",
    "Zinc\t\n",
    "35\n",
    "%\n",
    "40\n",
    "%\n",
    "5\n",
    "%\n",
    "\n",
    "In addition, the demand (in thousands of pounds) from Plant 1 is 9 High Brass, 3 Muntz metal, and 33 Gilding metal, and the demand from Plant 2 is is 7 High Brass, 2 Muntz metal, and 31 Gilding metal.\n",
    "\n",
    "a) Make a \n",
    "2\n",
    "×\n",
    "3\n",
    " matrix B that contains the blending information in decimal form.\t\n",
    " \t\n",
    "0.65\n",
    "0.6\n",
    "0.95\n",
    "0.35\n",
    "0.4\n",
    "0.05\n",
    " \n",
    "\n",
    "Correct\n",
    " \t \n",
    "b) Make a \n",
    "3\n",
    "×\n",
    "2\n",
    " matrix D for the demands at each plant. Plant 1 demands should be entered in column 1.\t\n",
    " \t\n",
    "9\n",
    "7\n",
    "3\n",
    "2\n",
    "33\n",
    "31\n",
    " \n",
    "\n",
    "Correct\n",
    " \t \n",
    "c) Find the matrix product to find each locations need for each type of metal.\t\n",
    " \t\n",
    "39\n",
    "35.2\n",
    "6\n",
    "4.8\n",
    " \n",
    "\n",
    "Correct\n",
    "\n",
    "d) if the price of zinc is $0.58 per pound and the price of copper is $3.84 per pound.\n",
    "\n",
    "The total cost of Plant 1 is \n",
    "153240\n",
    "Correct\n",
    "\n",
    "\n",
    "The total cost of Plant 2 is \n",
    "137952\n",
    "Correct\n",
    "</div>"
   ]
  },
  {
   "cell_type": "code",
   "execution_count": 22,
   "metadata": {
    "jupyter": {
     "outputs_hidden": false
    }
   },
   "outputs": [
    {
     "name": "stdout",
     "output_type": "stream",
     "text": [
      "\n",
      "Matrix A\n",
      "[[0.65 0.6  0.95]\n",
      " [0.35 0.4  0.05]]\n",
      "\n",
      "Matrix B\n",
      "[[ 9  7]\n",
      " [ 3  2]\n",
      " [33 31]]\n",
      "\n",
      "Product\n",
      "[[39.  35.2]\n",
      " [ 6.   4.8]]\n",
      "\n",
      "Cost\n",
      "[[153240. 137952.]]\n"
     ]
    }
   ],
   "source": [
    "blends = [[.65, .6, .95], \n",
    "          [.35, .4, .05]]\n",
    "A = np.matrix(blends)\n",
    "print('\\nMatrix A')\n",
    "print(A)\n",
    "\n",
    "\n",
    "print('\\nMatrix B')\n",
    "demands = [[9, 7],\n",
    "           [3, 2],\n",
    "           [33, 31]]\n",
    "\n",
    "B = np.matrix(demands)\n",
    "print(B)\n",
    "\n",
    "prod = np.dot(A, B)\n",
    "print('\\nProduct')\n",
    "print(prod)\n",
    "\n",
    "# Because these are in thousands of pounds\n",
    "thous_prod = 1000 * prod\n",
    "\n",
    "prices = [3.84, 0.58]\n",
    "cost = np.dot(prices, thous_prod)\n",
    "print(\"\\nCost\")\n",
    "print(cost)"
   ]
  },
  {
   "cell_type": "markdown",
   "metadata": {},
   "source": [
    "<div class=\"alert alert-block alert-success\"><b>Problem 11:</b>\n",
    "A new website allows consumers to purchase various automobiles via the internet and then take delivery at a local dealer. The following table shows the retail price of the cars on the website.\n",
    "\n",
    " \t   Brand A   \t   Brand B   \n",
    "Compact      \t\n",
    "11\n",
    ",\n",
    "000\n",
    "13\n",
    ",\n",
    "000\n",
    "\n",
    "Midsize\t\n",
    "20\n",
    ",\n",
    "000\n",
    "21\n",
    ",\n",
    "000\n",
    "\n",
    "Luxury\t\n",
    "28\n",
    ",\n",
    "000\n",
    "27\n",
    ",\n",
    "000\n",
    "\n",
    "Pickup\t\n",
    "61\n",
    ",\n",
    "000\n",
    "53\n",
    ",\n",
    "000\n",
    "\n",
    "The dealers makes the following profit:\n",
    "On compact cars they make 10%\n",
    "On midsize cars they make 8%\n",
    "On luxury cars they make 7%\n",
    "On pickup trucks they make 18%\n",
    "\n",
    "Use the following matrix and multiply to the price matrix to find a matrix of profit per car.\n",
    "\n",
    " \t0.1  \t0\t0\t0\t \n",
    " \t0\t0.08  \t0\t0\t \n",
    " \t0\t0\t0.07  \t0\t \n",
    " \t0\t0\t0\t0.18  \t </div>"
   ]
  },
  {
   "cell_type": "code",
   "execution_count": 10,
   "metadata": {
    "jupyter": {
     "outputs_hidden": false
    }
   },
   "outputs": [
    {
     "name": "stdout",
     "output_type": "stream",
     "text": [
      "\n",
      "Matrix A\n",
      "[[0.1  0.   0.   0.  ]\n",
      " [0.   0.08 0.   0.  ]\n",
      " [0.   0.   0.07 0.  ]\n",
      " [0.   0.   0.   0.18]]\n",
      "\n",
      "Matrix B\n",
      "[[11 13]\n",
      " [20 21]\n",
      " [28 27]\n",
      " [61 53]]\n",
      "\n",
      "Profit\n",
      "[[ 1100.  1300.]\n",
      " [ 1600.  1680.]\n",
      " [ 1960.  1890.]\n",
      " [10980.  9540.]]\n",
      "\n",
      "Three Brand A Luxury Car Profits\n",
      "5880.000000000001\n"
     ]
    }
   ],
   "source": [
    "markups = [[.1, 0, 0, 0],[0, .08, 0, 0], [0, 0, .07, 0], [0, 0 , 0, .18]]\n",
    "A = np.matrix(markups)\n",
    "print('\\nMatrix A')\n",
    "print(A)\n",
    "\n",
    "\n",
    "print('\\nMatrix B')\n",
    "prices  = [[11, 13],\n",
    "           [20, 21],\n",
    "           [28, 27],\n",
    "           [61, 53]]\n",
    "\n",
    "B = np.matrix(prices)\n",
    "print(B)\n",
    "\n",
    "profit = A * B \n",
    "profit_thou = profit * 1000\n",
    "print('\\nProfit')\n",
    "print(profit_thou)\n",
    "\n",
    "lux_a_three_prof = profit_thou[2, 0] * 3\n",
    "print('\\nThree Brand A Luxury Car Profits')\n",
    "print(lux_a_three_prof)\n"
   ]
  },
  {
   "cell_type": "markdown",
   "metadata": {},
   "source": [
    "<div class=\"alert alert-block alert-success\"><b>Problem 12:</b>\n",
    "Consider the system of linear equations\n",
    "\n",
    "3\n",
    "x\n",
    "−\n",
    "13\n",
    "y\n",
    "=\n",
    "2\n",
    "\n",
    "−\n",
    "x\n",
    "+\n",
    "5\n",
    "y\n",
    "=\n",
    "−\n",
    "1\n",
    "\n",
    "\n",
    "(a) The coefficient matrix of this system is\n",
    " \t\n",
    "3\n",
    "-13\n",
    "-1\n",
    "5\n",
    " \n",
    "\n",
    "Correct\n",
    "\n",
    "\n",
    "(b) The inverse of the coefficient matrix is\n",
    " \t\n",
    " \n",
    "\n",
    "Correct\n",
    "(Write your entries as decimal numbers, rounded to two decimal places if necessary.\n",
    "\n",
    "(c) The solution to the system, rounded to two decimal places (if necessary), is \n",
    "x\n",
    "=\n",
    "Correct and \n",
    "y\n",
    "=\n",
    "Correct .</div>"
   ]
  },
  {
   "cell_type": "code",
   "execution_count": 23,
   "metadata": {
    "jupyter": {
     "outputs_hidden": false
    }
   },
   "outputs": [
    {
     "name": "stdout",
     "output_type": "stream",
     "text": [
      "Coefficient Matrix\n",
      "[[  3 -13]\n",
      " [ -1   5]]\n",
      "Inverse of it is\n",
      "[[2.5 6.5]\n",
      " [0.5 1.5]]\n",
      "The solutions are [[-1.5 -0.5]]\n"
     ]
    }
   ],
   "source": [
    "lhs = np.matrix([[3, -13], [-1, 5]])\n",
    "rhs = [2, -1]\n",
    "\n",
    "print(\"Coefficient Matrix\")\n",
    "print(lhs)\n",
    "\n",
    "print(\"Inverse of it is\")\n",
    "inv_lhs = np.linalg.inv(lhs)\n",
    "print(inv_lhs)\n",
    "\n",
    "sol = np.dot(inv_lhs, rhs)\n",
    "print(f\"The solutions are {sol}\")"
   ]
  },
  {
   "cell_type": "markdown",
   "metadata": {},
   "source": [
    "<div class=\"alert alert-block alert-success\"><b>Problem 13:</b>\n",
    "Shane is trying to plan a meal to meet specific nutritional goals. He wants to prepare a meal containing rice, tofu, and peanuts that will provide \n",
    "317\n",
    " grams of carbohydrates, 321 grams of fat, and 173 grams of protein. He knows that each cup of rice provides \n",
    "40\n",
    " grams of carbohydrates, \n",
    "0\n",
    " grams of fat, and \n",
    "2\n",
    " grams of protein. Each cup of tofu provides \n",
    "7\n",
    " grams of carbohydrates, \n",
    "7\n",
    " grams of fat, and \n",
    "19\n",
    " grams of protein. Finally, each cup of peanuts provides \n",
    "34\n",
    " grams of carbohydrates, \n",
    "75\n",
    " grams of fat, and \n",
    "27\n",
    " grams of protein.\n",
    "\n",
    "Let \n",
    "r\n",
    " be the number of cups of rice, \n",
    "t\n",
    " the number of cups of tofu, and \n",
    "p\n",
    " the number of cups of peanuts. Set up the system of equations.\n",
    "\n",
    "Write the equation for the amount of carbohydrates in his meal.\n",
    "\n",
    "Correct\n",
    "40r+7t+34p   = \n",
    "317\n",
    "Correct\n",
    "\n",
    "Write the equation for the amount of fat in his meal.\n",
    "\n",
    "Correct\n",
    "0r+7t+75p   = \n",
    "321\n",
    "Correct\n",
    "\n",
    "Write the equation for the amount of protein in his meal.\n",
    "\n",
    "Correct\n",
    "2r+19t+27p   = \n",
    "173\n",
    "Correct\n",
    "\n",
    "How many cups of rice, tofu, and peanuts should he eat?\n",
    "\n",
    "cups of rice: \n",
    "4\n",
    "Correct cups of tofu: \n",
    "3\n",
    "Correct cups of peanuts:\n",
    "4\n",
    "</div>"
   ]
  },
  {
   "cell_type": "code",
   "execution_count": 24,
   "metadata": {
    "jupyter": {
     "outputs_hidden": false
    }
   },
   "outputs": [
    {
     "name": "stdout",
     "output_type": "stream",
     "text": [
      "\n",
      "Right Hand Side of Equation\n",
      "[[317]\n",
      " [321]\n",
      " [173]]\n",
      "\n",
      "Matrix A\n",
      "[[40  7 34]\n",
      " [ 0  7 75]\n",
      " [ 2 19 27]]\n"
     ]
    },
    {
     "data": {
      "text/plain": [
       "matrix([[4.],\n",
       "        [3.],\n",
       "        [4.]])"
      ]
     },
     "execution_count": 24,
     "metadata": {},
     "output_type": "execute_result"
    }
   ],
   "source": [
    "rhs = [317, 321, 173]\n",
    "rhs = np.matrix(rhs)\n",
    "rhs = np.transpose(rhs)\n",
    "print('\\nRight Hand Side of Equation')\n",
    "print(rhs)\n",
    "\n",
    "A = [[40, 7, 34],\n",
    "     [0, 7, 75],\n",
    "     [2, 19, 27]]\n",
    "A = np.matrix(A)\n",
    "print('\\nMatrix A')\n",
    "print(A)\n",
    "IA = np.linalg.inv(A)\n",
    "\n",
    "result = np.dot(IA, rhs)\n",
    "result = np.rint(result)\n",
    "result"
   ]
  },
  {
   "cell_type": "markdown",
   "metadata": {},
   "source": [
    "<div class=\"alert alert-block alert-success\"><b>Problem 14:</b>\n",
    "Solve the system using Cramer's Rule.\n",
    "\n",
    "−\n",
    "4\n",
    "x\n",
    "−\n",
    "y\n",
    "=\n",
    "3\n",
    "\n",
    "3\n",
    "x\n",
    "+\n",
    "2\n",
    "y\n",
    "=\n",
    "4\n",
    "\n",
    "\n",
    "Find the determinant \n",
    "D\n",
    " (denominator).\n",
    "D\n",
    " = \n",
    "-5\n",
    "Correct\n",
    "\n",
    "Find the determinant \n",
    "D\n",
    "x\n",
    " associated with \n",
    "x\n",
    ".\n",
    "D\n",
    "x\n",
    " = \n",
    "10\n",
    "Correct\n",
    "\n",
    "Find the determinant \n",
    "D\n",
    "y\n",
    " associated with \n",
    "y\n",
    ".\n",
    "D\n",
    "y\n",
    " = \n",
    "-25\n",
    "Correct\n",
    "\n",
    "The solution is \n",
    "(\n",
    "x\n",
    ",\n",
    "y\n",
    ")\n",
    " = (\n",
    "-2\n",
    "Correct,\n",
    "5\n",
    "Correct).</div>"
   ]
  },
  {
   "cell_type": "code",
   "execution_count": 25,
   "metadata": {},
   "outputs": [
    {
     "name": "stdout",
     "output_type": "stream",
     "text": [
      "D is -5\n",
      "Dx is 10\n",
      "Dy is -25\n",
      "The solution is (-2.0, 5.0)\n"
     ]
    }
   ],
   "source": [
    "a1 = -4\n",
    "a2 = 3\n",
    "b1 = -1\n",
    "b2 = 2\n",
    "c1 = 3\n",
    "c2 = 4\n",
    "\n",
    "D = (a1 * b2) - (a2 * b1)\n",
    "print(f'D is {D}')\n",
    "\n",
    "Dx = (c1 * b2) - (c2 * b1)\n",
    "Dy = (a1 * c2) - (a2 * c1)\n",
    "print(f'Dx is {Dx}')\n",
    "print(f'Dy is {Dy}')\n",
    "\n",
    "x = Dx/D\n",
    "y = Dy/D\n",
    "print(f\"The solution is ({x}, {y})\")"
   ]
  },
  {
   "cell_type": "markdown",
   "metadata": {},
   "source": [
    "<div class=\"alert alert-block alert-success\"><b>Problem 15:</b>\n",
    "Solve the system using Cramer's Rule.\n",
    "\n",
    "4\n",
    "x\n",
    "−\n",
    "2\n",
    "y\n",
    "+\n",
    "z\n",
    "=\n",
    "27\n",
    "\n",
    "−\n",
    "6\n",
    "x\n",
    "−\n",
    "3\n",
    "y\n",
    "−\n",
    "5\n",
    "z\n",
    "=\n",
    "−\n",
    "27\n",
    "\n",
    "5\n",
    "x\n",
    "+\n",
    "2\n",
    "y\n",
    "−\n",
    "4\n",
    "z\n",
    "=\n",
    "0\n",
    "\n",
    "\n",
    "Find the determinant \n",
    "D\n",
    " (denominator).\n",
    "D\n",
    " = \n",
    "189\n",
    "Correct\n",
    "\n",
    "Find the determinant \n",
    "D\n",
    "x\n",
    " associated with \n",
    "x\n",
    ".\n",
    "D\n",
    "x\n",
    " = \n",
    "756\n",
    "Correct\n",
    "\n",
    "Find the determinant \n",
    "D\n",
    "y\n",
    " associated with \n",
    "y\n",
    ".\n",
    "D\n",
    "y\n",
    " = \n",
    "-756\n",
    "Correct\n",
    "\n",
    "Find the determinant \n",
    "D\n",
    "z\n",
    " associated with \n",
    "z\n",
    ".\n",
    "D\n",
    "z\n",
    " = \n",
    "567\n",
    "Correct\n",
    "\n",
    "The solution is \n",
    "(\n",
    "x\n",
    ",\n",
    "y\n",
    ",\n",
    "z\n",
    ")\n",
    " = (\n",
    "4\n",
    "Correct,\n",
    "-4\n",
    "Correct,\n",
    "3\n",
    "Correct).\n",
    "</div>"
   ]
  },
  {
   "cell_type": "code",
   "execution_count": 26,
   "metadata": {
    "jupyter": {
     "outputs_hidden": false
    }
   },
   "outputs": [
    {
     "name": "stdout",
     "output_type": "stream",
     "text": [
      "D is 189\n",
      "Dx is 756\n",
      "Dy is -756\n",
      "Dz is 567\n",
      "The solution is (4.0, -4.0,3.0)\n"
     ]
    }
   ],
   "source": [
    "a1 = 4\n",
    "a2 = -6\n",
    "a3 = 5\n",
    "b1 = -2\n",
    "b2 = -3\n",
    "b3 = 2\n",
    "c1 = 1\n",
    "c2 = -5\n",
    "c3 = -4\n",
    "d1 = 27\n",
    "d2 = -27\n",
    "d3 = 0\n",
    "\n",
    "D = (a1 * b2*c3) - (a2 * b1*c3)+(b1*c2*a3)+(c1*a2*b3)-(c1*b2*a3)-(a1*c2*b3)\n",
    "print(f'D is {D}')\n",
    "\n",
    "Dx = (d1 * b2*c3)+(b1*c2*d3)+(c1*d2*b3) - (d2 * b1*c3)-(c1*b2*d3)-(d1*c2*b3)\n",
    "Dy = (a1 * d2*c3)+(d1*c2*a3)+(c1*a2*d3) - (a2 * d1*c3)-(a1*c2*d3)-(c1*d2*a3)\n",
    "Dz =(a1*b2*d3)+(b1*d2*a3)+(d1*a2*b3)-(b1*a2*d3)-(a1*d2*b3)-(d1*b2*a3)\n",
    "print(f'Dx is {Dx}')\n",
    "print(f'Dy is {Dy}')\n",
    "print(f'Dz is {Dz}')\n",
    "x = Dx/D\n",
    "y = Dy/D\n",
    "z =Dz/D\n",
    "print(f\"The solution is ({x}, {y},{z})\")"
   ]
  },
  {
   "cell_type": "code",
   "execution_count": 52,
   "metadata": {
    "jupyter": {
     "outputs_hidden": false
    }
   },
   "outputs": [
    {
     "name": "stdout",
     "output_type": "stream",
     "text": [
      "\n",
      "Matrix A\n",
      "[[6 8 1]\n",
      " [6 4 1]\n",
      " [5 7 1]]\n",
      "\n",
      "Matrix B\n",
      "[[4 3]\n",
      " [4 5]\n",
      " [2 2]]\n",
      "\n",
      "Cost Per Batch\n",
      "[[58 60]\n",
      " [42 40]\n",
      " [50 52]]\n",
      "\n",
      "Hundred Batches of Each Candy Cost\n",
      "[[6000]\n",
      " [4000]\n",
      " [5200]]\n"
     ]
    }
   ],
   "source": [
    "ingredients = [[6, 8, 1],[6, 4, 1], [5, 7, 1]]\n",
    "A = np.matrix(ingredients)\n",
    "print('\\nMatrix A')\n",
    "print(A)\n",
    "\n",
    "\n",
    "print('\\nMatrix B')\n",
    "cost  = [[4, 3],\n",
    "        [4, 5],\n",
    "        [2, 2]]\n",
    "\n",
    "B = np.matrix(cost)\n",
    "print(B)\n",
    "\n",
    "cost_per_batch = A * B              \n",
    "print('\\nCost Per Batch')\n",
    "print(cost_per_batch)\n",
    "\n",
    "supplierK = cost_per_batch[:,1]\n",
    "\n",
    "hundred_batches = supplierK * 100\n",
    "print('\\nHundred Batches of Each Candy Cost')\n",
    "print(hundred_batches)\n"
   ]
  },
  {
   "cell_type": "code",
   "execution_count": 2,
   "metadata": {},
   "outputs": [
    {
     "name": "stdout",
     "output_type": "stream",
     "text": [
      "\n",
      "Right Hand Side of Equation\n",
      "[[75000]\n",
      " [ 3000]\n",
      " [ 5985]]\n",
      "\n",
      "Matrix A\n",
      "[[ 1.    1.    1.  ]\n",
      " [ 0.    1.   -1.  ]\n",
      " [ 0.07  0.08  0.09]]\n"
     ]
    },
    {
     "data": {
      "text/plain": [
       "matrix([[25000.],\n",
       "        [26500.],\n",
       "        [23500.]])"
      ]
     },
     "execution_count": 2,
     "metadata": {},
     "output_type": "execute_result"
    }
   ],
   "source": [
    "import numpy as np\n",
    "rhs = [75000, 3000, 5985]\n",
    "rhs = np.matrix(rhs)\n",
    "rhs = np.transpose(rhs)\n",
    "print('\\nRight Hand Side of Equation')\n",
    "print(rhs)\n",
    "\n",
    "A = [[1, 1, 1],\n",
    "     [0,1 , -1],\n",
    "     [.07, .08, .09]]\n",
    "A = np.matrix(A)\n",
    "print('\\nMatrix A')\n",
    "print(A)\n",
    "IA = np.linalg.inv(A)\n",
    "\n",
    "result = np.dot(IA, rhs)\n",
    "result = np.rint(result)\n",
    "result"
   ]
  },
  {
   "cell_type": "code",
   "execution_count": null,
   "metadata": {},
   "outputs": [],
   "source": []
  }
 ],
 "metadata": {
  "kernelspec": {
   "display_name": "Python 3",
   "language": "python",
   "name": "python3"
  },
  "language_info": {
   "codemirror_mode": {
    "name": "ipython",
    "version": 3
   },
   "file_extension": ".py",
   "mimetype": "text/x-python",
   "name": "python",
   "nbconvert_exporter": "python",
   "pygments_lexer": "ipython3",
   "version": "3.8.5"
  },
  "varInspector": {
   "cols": {
    "lenName": 16,
    "lenType": 16,
    "lenVar": 40
   },
   "kernels_config": {
    "python": {
     "delete_cmd_postfix": "",
     "delete_cmd_prefix": "del ",
     "library": "var_list.py",
     "varRefreshCmd": "print(var_dic_list())"
    },
    "r": {
     "delete_cmd_postfix": ") ",
     "delete_cmd_prefix": "rm(",
     "library": "var_list.r",
     "varRefreshCmd": "cat(var_dic_list()) "
    }
   },
   "types_to_exclude": [
    "module",
    "function",
    "builtin_function_or_method",
    "instance",
    "_Feature"
   ],
   "window_display": false
  }
 },
 "nbformat": 4,
 "nbformat_minor": 4
}
