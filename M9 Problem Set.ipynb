{
 "cells": [
  {
   "cell_type": "markdown",
   "metadata": {},
   "source": [
    "<div class=\"alert alert-block alert-success\"><b>Problem 1:</b>Let $f(x,y) = 8x - 3y + 5$. Find the following values of $f(x,y)$ for the given coordinates. <br/>\n",
    "    (a) $f(5,6)$ <br/>\n",
    "    (b) $f(4,4)$ <br/>\n",
    "    (c) $f(-4,1)$ <br/>\n",
    "    (d) $f(0,3)$ <br/>\n",
    "    </div>\n",
    "    "
   ]
  },
  {
   "cell_type": "markdown",
   "metadata": {},
   "source": [
    "<div class=\"alert alert-block alert-info\">\n",
    "    <b>Note:</b> In most of the assignment questions we will use classes and functions from within the sympy package<br>\n",
    "    <ul><li>For some examples of how to use <i>expressions</i> and <i>symbols</i>, see the <a href=\"https://docs.sympy.org/latest/tutorial/basic_operations.html\">basic operations</a> documentation</li>\n",
    "    <li>For an in-depth primer on expressions, see <a href=\"https://docs.sympy.org/latest/tutorial/manipulation.html#tutorial-manipulation\">advanced expression manipulation</a></li>\n",
    "    <li>For pretty printing of equations using sympy, see <a href=\"https://docs.sympy.org/latest/tutorial/printing.html\">pretty printing with sympy</a>\n",
    "    </li></ul>\n",
    "</div>"
   ]
  },
  {
   "cell_type": "code",
   "execution_count": 1,
   "metadata": {},
   "outputs": [
    {
     "name": "stdout",
     "output_type": "stream",
     "text": [
      "a) f(-4,7) = -28\n",
      "b) f(-3,5) = -18\n",
      "c) f(5,2) = 10\n",
      "d) f(-2,1) = 0\n"
     ]
    }
   ],
   "source": [
    "from sympy import symbols\n",
    "\n",
    "# declare the symbols\n",
    "x, y = symbols('x y')\n",
    "\n",
    "# define the expression\n",
    "f = 2*x - 4*y + 8\n",
    "\n",
    "# Use the subs function to substitute the values for the x and y symbols\n",
    "print(\"a) f(-4,7) =\",f.subs({x:-4, y:7}))\n",
    "print(\"b) f(-3,5) =\",f.subs({x:-3,y:5}))\n",
    "print(\"c) f(5,2) =\",f.subs({x:5,y:2}))\n",
    "print(\"d) f(-2,1) =\",f.subs({x:-2,y:1}))"
   ]
  },
  {
   "cell_type": "markdown",
   "metadata": {},
   "source": [
    "<div class=\"alert alert-block alert-success\"><b>Problem 4: </b>Given $f(x,y)=y   ln(2x+3y), find $\n",
    "    \n",
    "$f_x (x,y) =$\n",
    "\n",
    "$f_y (x,y) =$\n"
   ]
  },
  {
   "cell_type": "markdown",
   "metadata": {},
   "source": [
    "<div class=\"alert alert-block alert-info\"><b>Note:</b> We will use the Derivative class from python for differential calculus.\n",
    "    See <a href=\"https://docs.sympy.org/latest/tutorial/calculus.html\">Sympy calculus</a> documentation for additional examples. \n",
    "</div>"
   ]
  },
  {
   "cell_type": "code",
   "execution_count": 2,
   "metadata": {},
   "outputs": [
    {
     "name": "stdout",
     "output_type": "stream",
     "text": [
      "f_x_xy = y/x\n",
      "f_y_xy = log(3*x)\n"
     ]
    }
   ],
   "source": [
    "# a) \n",
    "from sympy import symbols, Derivative, log\n",
    "\n",
    "x,y= symbols('x y')\n",
    "\n",
    "# declare the function z\n",
    "fxy = y*log(3*x)\n",
    "\n",
    "# derivative expression of function f(x,y) with respect to x\n",
    "partialderiv = Derivative(fxy, x)\n",
    "\n",
    "# The derivative is evaluated by using the doit() function\n",
    "pd_fxy_x = partialderiv.doit()\n",
    "\n",
    "print(\"f_x_xy =\", pd_fxy_x)\n",
    "\n",
    "# derivative expression of function f(x,y) with respect to y\n",
    "partialderiv = Derivative(fxy, y)\n",
    "\n",
    "# The derivative is evaluated by using the doit() function\n",
    "pd_fxy_y = partialderiv.doit()\n",
    "\n",
    "print(\"f_y_xy =\", pd_fxy_y)"
   ]
  },
  {
   "cell_type": "markdown",
   "metadata": {},
   "source": [
    "<div class=\"alert alert-block alert-success\"><b>Problem 5: </b>Suppose that the manufacturing cost of a particular item is approximated by  $M(x,y)=-x^6+5x^2 y^4+4y^3$ , where 𝑥 is the cost of materials and 𝑦 is the cost of labor. Find the following:<br>\n",
    "$M_{x}$$(x,y)$, $M_{y}{(x,y)}$,$M_{xx}$$(x,y)$, $M_{xy}$$(x,y)$.    \n",
    "</div>"
   ]
  },
  {
   "cell_type": "code",
   "execution_count": 3,
   "metadata": {},
   "outputs": [
    {
     "name": "stdout",
     "output_type": "stream",
     "text": [
      "Mx =  20*x**3 - 2*x*y**2\n",
      "My =  -2*x**2*y + 18*y**2\n",
      "Mxx =  2*(30*x**2 - y**2)\n",
      "Mxy =  -4*x*y\n"
     ]
    }
   ],
   "source": [
    "from sympy import symbols, Derivative\n",
    "\n",
    "x,y= symbols('x y')\n",
    "\n",
    "M = 5*x**4 - (x**2)*(y**2) + 6*y**3\n",
    "\n",
    "# The third parameter in the Derivative function '2' specifies the degree of differentiation. \n",
    "# The default is the '1' degree of differentiation\n",
    "Mx = Derivative(M,x).doit()\n",
    "print(\"Mx = \",Mx)\n",
    "My = Derivative(M,y).doit()\n",
    "print(\"My = \",My)\n",
    "Mxx = Derivative(M,x,2).doit()\n",
    "print(\"Mxx = \",Mxx)\n",
    "Mxy = Derivative(Derivative(M,y),x).doit()\n",
    "print(\"Mxy = \",Mxy)"
   ]
  },
  {
   "cell_type": "code",
   "execution_count": 4,
   "metadata": {},
   "outputs": [
    {
     "name": "stdout",
     "output_type": "stream",
     "text": [
      "120\n",
      "-30\n",
      "120*x - 30*y - 715\n"
     ]
    }
   ],
   "source": [
    "from sympy import symbols, Derivative, exp\n",
    "import math\n",
    "\n",
    "x,y= symbols('x y')\n",
    "\n",
    "M = 5*exp(x**2-6*y)\n",
    "\n",
    "# The third parameter in the Derivative function '2' specifies the degree of differentiation. \n",
    "# The default is the '1' degree of differentiation\n",
    "Mx = Derivative(M,x).doit()\n",
    "print(Mx.subs({x:12, y:24}))\n",
    "My = Derivative(M,y).doit()\n",
    "print(My.subs({y:24, x:12}))\n",
    "\n",
    "z = 120*(x-12)-30*(y-24)+5\n",
    "print(z)"
   ]
  },
  {
   "cell_type": "code",
   "execution_count": 5,
   "metadata": {},
   "outputs": [
    {
     "name": "stdout",
     "output_type": "stream",
     "text": [
      "0.500000000000000\n",
      "1.50000000000000\n",
      "0.5*x + 1.5*y\n",
      "6.41500000000000\n"
     ]
    }
   ],
   "source": [
    "from sympy import symbols, Derivative\n",
    "\n",
    "x,y= symbols('x y')\n",
    "\n",
    "M = 3*((x*y)/3)**(1/2)\n",
    "\n",
    "# The third parameter in the Derivative function '2' specifies the degree of differentiation. \n",
    "# The default is the '1' degree of differentiation\n",
    "Mx = Derivative(M,x).doit()\n",
    "print(Mx.subs({x:6, y:2}))\n",
    "My = Derivative(M,y).doit()\n",
    "print(My.subs({x:6, y:2}))\n",
    "\n",
    "z = .5*(x-6)+1.5*(y-2)+6\n",
    "print(z)\n",
    "print(z.subs({x:6.2, y:2.21}))"
   ]
  },
  {
   "cell_type": "code",
   "execution_count": 6,
   "metadata": {},
   "outputs": [
    {
     "name": "stdout",
     "output_type": "stream",
     "text": [
      "20*t**5*exp(20*t + 20) + 5*t**4*exp(20*t + 20)\n"
     ]
    }
   ],
   "source": [
    "from sympy import symbols, Derivative\n",
    "\n",
    "t = symbols('t')\n",
    "\n",
    "z = t**5*exp(20+20*t)\n",
    "zt = Derivative(z,t).doit()\n",
    "print(zt)"
   ]
  },
  {
   "cell_type": "code",
   "execution_count": 7,
   "metadata": {},
   "outputs": [
    {
     "data": {
      "text/plain": [
       "-0.28565625"
      ]
     },
     "execution_count": 7,
     "metadata": {},
     "output_type": "execute_result"
    }
   ],
   "source": [
    "(8.31*0.2 - (8.31*300/16)*.04)/16"
   ]
  },
  {
   "cell_type": "code",
   "execution_count": 8,
   "metadata": {},
   "outputs": [],
   "source": [
    "from sympy import lambdify, Abs\n",
    "\n",
    "def D(func, x_sym, y_sym, x_crit, y_crit):\n",
    "    # Calculate the discriminant for a given function\n",
    "    f_x_x = func.diff(x_sym, x_sym)\n",
    "    f_y_y = func.diff(y_sym, y_sym)\n",
    "    f_x_y = func.diff(x_sym, y_sym)\n",
    "    \n",
    "    # Create callable functions for each of the derivitives we created\n",
    "    lambd_x_x = lambdify([x_sym, y_sym], f_x_x)\n",
    "    lambd_y_y = lambdify([x_sym, y_sym], f_y_y)\n",
    "    lambd_x_y = lambdify([x_sym, y_sym], f_x_y)\n",
    "\n",
    "    fxx_ab = lambd_x_x(x_crit, y_crit)\n",
    "    fyy_ab = lambd_y_y(x_crit, y_crit) \n",
    "    fxy_ab = lambd_x_y(x_crit, y_crit)\n",
    "\n",
    "    d = fxx_ab * fyy_ab - Abs(fxy_ab)**2\n",
    "\n",
    "    print(f\"The discriminant of our critical value is {d}\")\n",
    "\n",
    "    if d < 0:\n",
    "        print(\"This is a saddle point\")\n",
    "    elif d > 0:\n",
    "        if fxx_ab < 0:\n",
    "            print(\"This is relative maxima\")\n",
    "        else:\n",
    "            print(\"This is a relative minima\")\n",
    "    \n"
   ]
  },
  {
   "cell_type": "code",
   "execution_count": 9,
   "metadata": {
    "scrolled": true
   },
   "outputs": [
    {
     "name": "stdout",
     "output_type": "stream",
     "text": [
      "The x and y value for critical points are FiniteSet((0, 0), (-sqrt(2)/4, -sqrt(2)/4), (sqrt(2)/4, sqrt(2)/4), (-1/4 - I/4, 1/4 - I/4), (-1/4 + I/4, 1/4 + I/4), (1/4 - I/4, -1/4 - I/4), (1/4 + I/4, -1/4 + I/4), (-sqrt(2)*I/4, sqrt(2)*I/4), (sqrt(2)*I/4, -sqrt(2)*I/4))\n",
      "Analyzing critical point (0, 0)\n",
      "The discriminant of our critical value is -1\n",
      "This is a saddle point\n",
      "Analyzing critical point (-sqrt(2)/4, -sqrt(2)/4)\n",
      "The discriminant of our critical value is 8\n",
      "This is a relative minima\n",
      "Analyzing critical point (sqrt(2)/4, sqrt(2)/4)\n",
      "The discriminant of our critical value is 8\n",
      "This is a relative minima\n",
      "-0.0625000000000000\n"
     ]
    }
   ],
   "source": [
    "from sympy import symbols, S, nonlinsolve\n",
    "\n",
    "x, y = symbols('x, y', real=True)\n",
    "\n",
    "f_x_y = 2*x**4 + 2*y**4 - x*y\n",
    "partial_x = f_x_y.diff(x)\n",
    "partial_y = f_x_y.diff(y)\n",
    "\n",
    "# Get nonlinear solution and remove imaginary numbers\n",
    "results = nonlinsolve([partial_x, partial_y], [x, y])\n",
    "\n",
    "print(f\"The x and y value for critical points are {results}\")\n",
    "\n",
    "for result in list(results):\n",
    "    if result[0].is_real and result[1].is_real:  # Ignore any solutions that are not real numbers\n",
    "        print(f\"Analyzing critical point {result}\")\n",
    "        D(f_x_y, x, y, result[0], result[1])  \n",
    "print(f_x_y.subs({x:(2)**(1/2)/4, y:(2)**(1/2)/4}))"
   ]
  },
  {
   "cell_type": "code",
   "execution_count": 10,
   "metadata": {
    "scrolled": true
   },
   "outputs": [
    {
     "name": "stdout",
     "output_type": "stream",
     "text": [
      "The x and y value for critical points are FiniteSet((-8, 0), (-8, 4), (0, 0), (0, 4))\n",
      "Analyzing critical point (-8, 0)\n",
      "The discriminant of our critical value is 288\n",
      "This is relative maxima\n",
      "Analyzing critical point (-8, 4)\n",
      "The discriminant of our critical value is -288\n",
      "This is a saddle point\n",
      "Analyzing critical point (0, 0)\n",
      "The discriminant of our critical value is -288\n",
      "This is a saddle point\n",
      "Analyzing critical point (0, 4)\n",
      "The discriminant of our critical value is 288\n",
      "This is a relative minima\n",
      "-33\n",
      "255\n"
     ]
    }
   ],
   "source": [
    "from sympy import symbols, S, nonlinsolve\n",
    "\n",
    "x, y = symbols('x, y', real=True)\n",
    "\n",
    "f_x_y = x**3 + y**3 +12*x**2 - 6*y**2 - 1\n",
    "partial_x = f_x_y.diff(x)\n",
    "partial_y = f_x_y.diff(y)\n",
    "\n",
    "# Get nonlinear solution and remove imaginary numbers\n",
    "results = nonlinsolve([partial_x, partial_y], [x, y])\n",
    "\n",
    "print(f\"The x and y value for critical points are {results}\")\n",
    "\n",
    "for result in list(results):\n",
    "    if result[0].is_real and result[1].is_real:  # Ignore any solutions that are not real numbers\n",
    "        print(f\"Analyzing critical point {result}\")\n",
    "        D(f_x_y, x, y, result[0], result[1])  \n",
    "print(f_x_y.subs({x:0, y:4}))\n",
    "print(f_x_y.subs({x:-8, y:0}))"
   ]
  },
  {
   "cell_type": "code",
   "execution_count": 11,
   "metadata": {
    "scrolled": false
   },
   "outputs": [
    {
     "name": "stdout",
     "output_type": "stream",
     "text": [
      "-8*x - 5*y + 9\n",
      "-5*x - 4*y + 8\n",
      "The x and y value for critical points are FiniteSet((-4/7, 19/7))\n"
     ]
    }
   ],
   "source": [
    "from sympy import symbols, S, linsolve\n",
    "\n",
    "x, y = symbols('x, y')\n",
    "\n",
    "f_x_y = 9*x + 8*y -4*x**2 - 2*y**2 - 5*x*y\n",
    "partial_x = f_x_y.diff(x)\n",
    "partial_y = f_x_y.diff(y)\n",
    "\n",
    "print(partial_x)\n",
    "print(partial_y)\n",
    "\n",
    "results = linsolve([partial_x, partial_y], x, y)\n",
    "\n",
    "print(f\"The x and y value for critical points are {results}\")"
   ]
  },
  {
   "cell_type": "code",
   "execution_count": 20,
   "metadata": {},
   "outputs": [
    {
     "name": "stdout",
     "output_type": "stream",
     "text": [
      "Min value of x is 6.55238676352277\n",
      "Min value of y is 10.6476284907245\n",
      "Min value of z is 5.73333841808242\n",
      "Min area is of (6.55238676352277, 10.6476284907245, 5.73333841808242) is 400.000000000000\n",
      "Min value of x is -3.27619338176138 + 5.67453339263162*I\n",
      "Min value of y is -5.32381424536225 + 9.22111676302637*I\n",
      "Min value of z is -2.86666920904121 + 4.96521671855266*I\n",
      "Min area is of (-3.27619338176138 + 5.67453339263162*I, -5.32381424536225 + 9.22111676302637*I, -2.86666920904121 + 4.96521671855266*I) is (-5.32381424536225 + 9.22111676302637*I)*(-3.27619338176138 + 5.67453339263162*I)*(-2.86666920904121 + 4.96521671855266*I)\n",
      "Min value of x is -3.27619338176138 - 5.67453339263162*I\n",
      "Min value of y is -5.32381424536225 - 9.22111676302637*I\n",
      "Min value of z is -2.86666920904121 - 4.96521671855266*I\n",
      "Min area is of (-3.27619338176138 - 5.67453339263162*I, -5.32381424536225 - 9.22111676302637*I, -2.86666920904121 - 4.96521671855266*I) is (-5.32381424536225 - 9.22111676302637*I)*(-3.27619338176138 - 5.67453339263162*I)*(-2.86666920904121 - 4.96521671855266*I)\n"
     ]
    }
   ],
   "source": [
    "from sympy import symbols, nonlinsolve, nsimplify, expand, powsimp\n",
    "\n",
    "x, y, z, l = symbols('x, y, z, l', real=True)\n",
    "\n",
    "f_xyz = 7*x*y + 13*x*z + 8*y*z\n",
    "g_xyz = x*y*z - 400 # Constraint is equal to zero when subtracting right side\n",
    "\n",
    "# Implement lagrange function and solve system\n",
    "f_xyzl = f_xyz - l *g_xyz\n",
    "f_xyzl_x = f_xyzl.diff(x)\n",
    "f_xyzl_y = f_xyzl.diff(y)\n",
    "f_xyzl_z = f_xyzl.diff(z)\n",
    "f_xyzl_l = f_xyzl.diff(l)\n",
    "\n",
    "results = nonlinsolve([\n",
    "    f_xyzl_x,\n",
    "    f_xyzl_y,\n",
    "    f_xyzl_z,\n",
    "    f_xyzl_l,\n",
    "], [x, y, z, l])\n",
    "\n",
    "# Analyze each of the solutions\n",
    "for sol in list(results):\n",
    "    x_sol, y_sol, z_sol, l_sol = sol\n",
    "\n",
    "    x_sol = x_sol.evalf()  # Evaluate the value so we're not getting sqrt equation\n",
    "    y_sol = y_sol.evalf()\n",
    "    z_sol = z_sol.evalf()\n",
    "    print(f\"Min value of x is {x_sol}\")\n",
    "    print(f\"Min value of y is {y_sol}\")\n",
    "    print(f\"Min value of z is {z_sol}\")\n",
    "    print(f\"Min area is of ({x_sol}, {y_sol}, {z_sol}) is {x_sol * y_sol * z_sol}\")"
   ]
  },
  {
   "cell_type": "markdown",
   "metadata": {},
   "source": [
    "\n",
    "<div class=\"alert alert-block alert-success\"><b> Problem 14.</b>\n",
    "A firm manufactures a commodity at two different factories, Factory X and Factory Y. The total cost (in dollars) of manufacturing depends on the quantities, x and y produced at each factory, respectively, and is expressed by the joint cost function:\n",
    "\n",
    "$C(x,y)=2x^2+xy+4y^2+1000$\n",
    "<br/><br/>\n",
    "\n",
    "A) If the company's objective is to produce 1,700 units per month while minimizing the total monthly cost of production, how many units should be produced at each factory? (Round your answer to whole units, i.e. no decimal places.)\n",
    "<br/><br/>\n",
    "To minimize costs, the company should produce:\n",
    "at Factory X and\n",
    "at Factory Y\n",
    "<br/><br/>\n",
    "B) For this combination of units, their minimal costs will be dollars. (Do not enter any commas in your answer.)\n",
    "<br/><br/>\n",
    "</div>"
   ]
  },
  {
   "cell_type": "markdown",
   "metadata": {},
   "source": [
    "<div class=\"alert alert-block alert-info\"><b>Note:</b> <br>\n",
    "    We use the <i>solve</i> function from sympy <i>solvers</i> to solve for the values of x and y. <br>\n",
    "    For more information on solvers see <a href=\"https://docs.sympy.org/latest/modules/solvers/solvers.html\">sympy solvers documentation</a>.\n",
    "</div>"
   ]
  },
  {
   "cell_type": "code",
   "execution_count": 22,
   "metadata": {},
   "outputs": [
    {
     "name": "stdout",
     "output_type": "stream",
     "text": [
      "y = 217\n",
      "x = 1083\n",
      "Minimal costs will be $ 2957900\n"
     ]
    }
   ],
   "source": [
    "from sympy import symbols, Derivative\n",
    "from sympy.solvers import solve \n",
    "from mpmath import pi\n",
    "\n",
    "x, y = symbols('x y')\n",
    "# x + y = 1700\n",
    "x = 1300 - y\n",
    "\n",
    "# Plug in the equation of p in the z equation\n",
    "C = 2*(1300-y)**2 + (1300-y)*y + 8*y**2 + 400\n",
    "dC = Derivative(C, y).doit()\n",
    "\n",
    "# To calculate the minimum total we have to find where dC = 0\n",
    "# We will use the equation of dC above and the sympy solve function to \n",
    "# solve for y\n",
    "y_value = solve(dC, y)\n",
    "print(\"y =\", round(y_value[0]))\n",
    "\n",
    "# Calculate p by substituting the value for r\n",
    "x_value = x.subs({y:y_value[0]})\n",
    "print(\"x =\",round(x_value))\n",
    "\n",
    "# Calculate z by substituting the value for r\n",
    "C_value = C.subs({y:y_value[0]})\n",
    "#print(\"C = \",round(C_value[0]))\n",
    "print(\"Minimal costs will be $\",C_value)"
   ]
  },
  {
   "cell_type": "markdown",
   "metadata": {},
   "source": [
    "\n",
    "<div class=\"alert alert-block alert-success\"><b> Problem 15.</b>\n",
    "A chemical manufacturing plant can produce z units of chemical Z given p units of chemical P and r units of chemical R, where:\n",
    "\n",
    "\n",
    "$z=120p^.6 r^.4 $\n",
    "<br/><br/>\n",
    "\n",
    "Chemical P costs \\\\$300 a unit and chemical R costs \\\\$1,800 a unit. The company wants to produce as many units of chemical Z as possible with a total budget of \\\\$135,000.\n",
    "<br/><br/>\n",
    "A) How many units each chemical (P and R) should be \"purchased\" to maximize production of chemical Z subject to the budgetary constraint?\n",
    "<br/><br/>\n",
    "Units of chemical P, p =\n",
    "<br/><br/>\n",
    "Units of chemical R, r =\n",
    "<br/><br/>\n",
    "B) What is the maximum number of units of chemical Z under the given budgetary conditions? (Round your answer to the nearest whole unit.)\n",
    "<br/>\n",
    "Max production, z = units\n",
    "<br/>\n",
    "</div>"
   ]
  },
  {
   "cell_type": "code",
   "execution_count": 24,
   "metadata": {},
   "outputs": [
    {
     "name": "stdout",
     "output_type": "stream",
     "text": [
      "r = 50\n",
      "p = 150\n",
      "z =  16454\n"
     ]
    }
   ],
   "source": [
    "from sympy import symbols, Derivative\n",
    "from sympy.solvers import solve \n",
    "from mpmath import pi\n",
    "\n",
    "p, r = symbols('p r')\n",
    "p = 300 - 3*r\n",
    "\n",
    "# Plug in the equation of p in the z equation\n",
    "z = 190*(300-3*r)**0.5*r**0.5\n",
    "dz = Derivative(z, r).doit()\n",
    "\n",
    "# To calculate the maximum we have to find where dz = 0\n",
    "# We will use the equation of dz above and the sympy solve function to \n",
    "# solve for r\n",
    "r_value = solve(dz, r)\n",
    "print(\"r =\", round(r_value[0]))\n",
    "\n",
    "# Calculate p by substituting the value for r\n",
    "p_value = p.subs({r:r_value[0]})\n",
    "print(\"p =\",round(p_value))\n",
    "\n",
    "# Calculate z by substituting the value for r\n",
    "z_value = z.subs({r:r_value[0]})\n",
    "print(\"z = \",round(z_value))"
   ]
  },
  {
   "cell_type": "code",
   "execution_count": 2,
   "metadata": {},
   "outputs": [
    {
     "name": "stdout",
     "output_type": "stream",
     "text": [
      "y = 3\n",
      "x = 1\n",
      "Maximum profits will be $ 1000\n"
     ]
    }
   ],
   "source": [
    "from sympy import symbols, Derivative\n",
    "from sympy.solvers import solve \n",
    "from mpmath import pi\n",
    "\n",
    "x, y = symbols('x y')\n",
    "x = 4 - y\n",
    "\n",
    "# Plug in the equation of p in the z equation\n",
    "C = -(4-y)**2 - y**2 + 2*(4-y) + 6*y\n",
    "dC = Derivative(C, y).doit()\n",
    "\n",
    "# To calculate the minimum total we have to find where dC = 0\n",
    "# We will use the equation of dC above and the sympy solve function to \n",
    "# solve for y\n",
    "y_value = solve(dC, y)\n",
    "print(\"y =\", round(y_value[0]))\n",
    "\n",
    "# Calculate p by substituting the value for r\n",
    "x_value = x.subs({y:y_value[0]})\n",
    "print(\"x =\",round(x_value))\n",
    "\n",
    "# Calculate z by substituting the value for r\n",
    "C_value = C.subs({y:y_value[0]})\n",
    "#print(\"C = \",round(C_value[0]))\n",
    "print(\"Maximum profits will be $\",C_value*100)"
   ]
  },
  {
   "cell_type": "code",
   "execution_count": null,
   "metadata": {},
   "outputs": [],
   "source": []
  }
 ],
 "metadata": {
  "kernelspec": {
   "display_name": "Python 3",
   "language": "python",
   "name": "python3"
  },
  "language_info": {
   "codemirror_mode": {
    "name": "ipython",
    "version": 3
   },
   "file_extension": ".py",
   "mimetype": "text/x-python",
   "name": "python",
   "nbconvert_exporter": "python",
   "pygments_lexer": "ipython3",
   "version": "3.8.5"
  },
  "varInspector": {
   "cols": {
    "lenName": 16,
    "lenType": 16,
    "lenVar": 40
   },
   "kernels_config": {
    "python": {
     "delete_cmd_postfix": "",
     "delete_cmd_prefix": "del ",
     "library": "var_list.py",
     "varRefreshCmd": "print(var_dic_list())"
    },
    "r": {
     "delete_cmd_postfix": ") ",
     "delete_cmd_prefix": "rm(",
     "library": "var_list.r",
     "varRefreshCmd": "cat(var_dic_list()) "
    }
   },
   "types_to_exclude": [
    "module",
    "function",
    "builtin_function_or_method",
    "instance",
    "_Feature"
   ],
   "window_display": false
  }
 },
 "nbformat": 4,
 "nbformat_minor": 1
}
