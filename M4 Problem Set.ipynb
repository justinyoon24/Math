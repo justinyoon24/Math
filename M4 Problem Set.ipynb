{
 "cells": [
  {
   "cell_type": "code",
   "execution_count": 1,
   "metadata": {
    "jupyter": {
     "outputs_hidden": false
    }
   },
   "outputs": [
    {
     "name": "stdout",
     "output_type": "stream",
     "text": [
      "Probability of a male is 0.5595\n",
      "Probability of an A is 0.2381\n"
     ]
    }
   ],
   "source": [
    "# 1\n",
    "males = 47\n",
    "total = 84\n",
    "\n",
    "p_male = males/total\n",
    "print(f\"Probability of a male is {p_male:.4}\")\n",
    "\n",
    "a = 20\n",
    "p_a = a/total\n",
    "print(f\"Probability of an A is {p_a:.4}\")"
   ]
  },
  {
   "cell_type": "code",
   "execution_count": 11,
   "metadata": {
    "jupyter": {
     "outputs_hidden": false
    }
   },
   "outputs": [
    {
     "name": "stdout",
     "output_type": "stream",
     "text": [
      "Randomly answering the exam gives a probability of 1.0 for getting at least one question wrong.\n"
     ]
    }
   ],
   "source": [
    "# 2  \n",
    "p_succ = 1/3\n",
    "q_count = 7\n",
    "\n",
    "p_all_correct = p_succ ** q_count\n",
    "p_at_least_one_wrong = 1 - p_all_correct\n",
    "\n",
    "print(f\"Randomly answering the exam gives a probability of {p_at_least_one_wrong:.2} for getting at least one question wrong.\")\n"
   ]
  },
  {
   "cell_type": "code",
   "execution_count": 14,
   "metadata": {
    "jupyter": {
     "outputs_hidden": false
    }
   },
   "outputs": [
    {
     "name": "stdout",
     "output_type": "stream",
     "text": [
      "The probability that someone was wearing a seatbelt given that they were ejected is 0.28577512776831343\n",
      "The probability that someone was not wearing a seatbelt given that they were not ejected is 0.29051228437009935\n"
     ]
    }
   ],
   "source": [
    "# 10\n",
    "\n",
    "# Prob seatbelts\n",
    "p_s = .61\n",
    "\n",
    "# Seatbelts and ejection\n",
    "p_s_u_e = .11\n",
    "\n",
    "# No Seatbelts and ejection\n",
    "p_n_u_e = .43\n",
    "\n",
    "# Probability of ejection\n",
    "p_e = (p_s * p_s_u_e) + (1 - p_s) * p_n_u_e\n",
    "\n",
    "# Probability of non-ejection\n",
    "p_z = 1 - p_e\n",
    "\n",
    "# P(A|B) = P(B|A) * P(A) / P(B)\n",
    "p_se = p_s_u_e * p_s / p_e\n",
    "print(f\"The probability that someone was wearing a seatbelt given that they were ejected is {p_se}\")\n",
    "\n",
    "# Not wearing seatbelt, not ejected\n",
    "p_z_u_n = 1 - p_n_u_e\n",
    "\n",
    "# No seatbelt\n",
    "p_n = 1 - p_s\n",
    "\n",
    "# P(N | Z) = P(Z | N) * P(N) / P(Z)\n",
    "p_nz = p_z_u_n * p_n / p_z\n",
    "\n",
    "print(f\"The probability that someone was not wearing a seatbelt given that they were not ejected is {p_nz}\")"
   ]
  },
  {
   "cell_type": "code",
   "execution_count": 4,
   "metadata": {
    "jupyter": {
     "outputs_hidden": false
    }
   },
   "outputs": [
    {
     "name": "stdout",
     "output_type": "stream",
     "text": [
      "There are a total of 67600000 possible with 5 numbers and 2 letters\n"
     ]
    }
   ],
   "source": [
    "# 11\n",
    "n_count = 10\n",
    "l_count = 26\n",
    "\n",
    "n = 5  \n",
    "l = 2\n",
    "\n",
    "tot_plates = n_count ** n * l_count ** l\n",
    "print(f\"There are a total of {tot_plates} possible with 5 numbers and 2 letters\")\n",
    "\n"
   ]
  },
  {
   "cell_type": "code",
   "execution_count": 34,
   "metadata": {
    "jupyter": {
     "outputs_hidden": false
    }
   },
   "outputs": [
    {
     "name": "stdout",
     "output_type": "stream",
     "text": [
      "The expected value of each warranty is $36.0\n"
     ]
    }
   ],
   "source": [
    "# 15\n",
    "p_failure = .005\n",
    "cost = 400\n",
    "\n",
    "warranty_payout = p_failure * cost\n",
    "warranty_income = 38\n",
    "\n",
    "value = warranty_income - warranty_payout\n",
    "r_value = round(value, 2)\n",
    "print(f\"The expected value of each warranty is ${r_value:2}\")"
   ]
  },
  {
   "cell_type": "code",
   "execution_count": 13,
   "metadata": {},
   "outputs": [
    {
     "name": "stdout",
     "output_type": "stream",
     "text": [
      "0.12893982808022922\n"
     ]
    }
   ],
   "source": [
    "teen = .09*.2\n",
    "ya = .15*.06\n",
    "maa = .6*.05\n",
    "senior = .16*.08\n",
    "total = teen+ya+maa+senior\n",
    "print(ya/total)"
   ]
  },
  {
   "cell_type": "code",
   "execution_count": 20,
   "metadata": {},
   "outputs": [
    {
     "data": {
      "text/plain": [
       "0.0001984126984126984"
      ]
     },
     "execution_count": 20,
     "metadata": {},
     "output_type": "execute_result"
    }
   ],
   "source": [
    "import math\n",
    "math.factorial(7)\n",
    "1/5040"
   ]
  },
  {
   "cell_type": "code",
   "execution_count": 36,
   "metadata": {},
   "outputs": [
    {
     "name": "stdout",
     "output_type": "stream",
     "text": [
      "4\n",
      "44\n",
      "2598960\n",
      "352\n"
     ]
    }
   ],
   "source": [
    "print(math.comb(4,1))\n",
    "print(math.comb(44,1))\n",
    "print(math.comb(52,5))\n",
    "print(8*44)"
   ]
  },
  {
   "cell_type": "code",
   "execution_count": 32,
   "metadata": {},
   "outputs": [
    {
     "data": {
      "text/plain": [
       "5.800000000000001"
      ]
     },
     "execution_count": 32,
     "metadata": {},
     "output_type": "execute_result"
    }
   ],
   "source": [
    ".15*2+.25*4+.15*7+.05*8+.15*11+.1*14"
   ]
  },
  {
   "cell_type": "code",
   "execution_count": 3,
   "metadata": {},
   "outputs": [
    {
     "data": {
      "text/plain": [
       "0.11764705882352941"
      ]
     },
     "execution_count": 3,
     "metadata": {},
     "output_type": "execute_result"
    }
   ],
   "source": [
    "p_a = .25\n",
    "p_b = 1-p_a\n",
    "p_a_u_w = .02\n",
    "p_b_u_w = .05\n",
    "p_w = p_a*p_a_u_w + p_b*p_b_u_w\n",
    "p_a_w = p_a*p_a_u_w/p_w\n",
    "p_a_w"
   ]
  },
  {
   "cell_type": "code",
   "execution_count": 7,
   "metadata": {},
   "outputs": [
    {
     "data": {
      "text/plain": [
       "0.3181818181818182"
      ]
     },
     "execution_count": 7,
     "metadata": {},
     "output_type": "execute_result"
    }
   ],
   "source": [
    "p_a = .70\n",
    "p_b = .30\n",
    "p_a_u_u = .95\n",
    "p_a_u_d = .05\n",
    "p_b_u_u = .75\n",
    "p_b_u_d = .25\n",
    "p_u = p_a*p_a_u_u + p_b*p_b_u_u\n",
    "p_b_u = p_b*p_b_u_u/p_u\n",
    "p_d = p_a*p_a_u_d + p_b*p_b_u_d\n",
    "p_a_d = p_a*p_a_u_d/p_d\n",
    "p_a_d\n"
   ]
  },
  {
   "cell_type": "code",
   "execution_count": null,
   "metadata": {},
   "outputs": [],
   "source": []
  }
 ],
 "metadata": {
  "kernelspec": {
   "display_name": "Python 3",
   "language": "python",
   "name": "python3"
  },
  "language_info": {
   "codemirror_mode": {
    "name": "ipython",
    "version": 3
   },
   "file_extension": ".py",
   "mimetype": "text/x-python",
   "name": "python",
   "nbconvert_exporter": "python",
   "pygments_lexer": "ipython3",
   "version": "3.8.5"
  }
 },
 "nbformat": 4,
 "nbformat_minor": 4
}
